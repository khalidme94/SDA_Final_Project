{
  "nbformat": 4,
  "nbformat_minor": 0,
  "metadata": {
    "colab": {
      "name": "final project V0.2.ipynb",
      "provenance": [],
      "collapsed_sections": [
        "gKZTvbRM3reD",
        "7SSaHR424aBa",
        "X0kLRrM43x__",
        "E70Xcb-jGAxu",
        "4L4lJ-5efKlh",
        "Q1H1fZsMeN19",
        "AhJe5ggdiJhk",
        "rpKcywHJeN1_",
        "BUSo-bZ8g8Jw",
        "0apkjU7Ag-PF",
        "Vvn94e9Og_VI",
        "ZTl6j1XthAQS",
        "3u7cKSG2hBbw",
        "opssh_g6ie38",
        "oGeVXCxmKRHc",
        "T3rXWgN_BaYx",
        "HGFvyGknjNIv",
        "XR8A-YRrjUuE",
        "VDW2MY0h1m0c",
        "iuaH1PSs11zB",
        "nazOges31-iR",
        "E7lLLTrp21Oa",
        "yyftd2qX6Jv_",
        "wUkUAoRK6N6M",
        "Gp0td9TEuFcI",
        "MZ_VbXAK2L_A",
        "-gMLOA1w2RU5",
        "4g7W7_mY2Zi_",
        "vnl_2xhZ8PDn",
        "ToDeHX6S8viX",
        "P3-vaO_l8zMb",
        "9xHC-wj_ooWZ",
        "gDRUHS1yuqnw",
        "UkT_l-3Nuxa-"
      ],
      "mount_file_id": "1FnjAT02OUjxfUK_JsosvmixKaCdmCcsl",
      "authorship_tag": "ABX9TyONPS+cyJnItoFlFNA0jtXH",
      "include_colab_link": true
    },
    "kernelspec": {
      "name": "python3",
      "display_name": "Python 3"
    },
    "accelerator": "GPU"
  },
  "cells": [
    {
      "cell_type": "markdown",
      "metadata": {
        "id": "view-in-github",
        "colab_type": "text"
      },
      "source": [
        "<a href=\"https://colab.research.google.com/github/khalidme94/SDA_Final_Project/blob/main/final_project_V0_2.ipynb\" target=\"_parent\"><img src=\"https://colab.research.google.com/assets/colab-badge.svg\" alt=\"Open In Colab\"/></a>"
      ]
    },
    {
      "cell_type": "markdown",
      "metadata": {
        "id": "gKZTvbRM3reD"
      },
      "source": [
        "##Importing Libraries"
      ]
    },
    {
      "cell_type": "code",
      "metadata": {
        "id": "eTVtV2vk4B9H"
      },
      "source": [
        "import pandas as pd\r\n",
        "import seaborn as sns\r\n",
        "import matplotlib.pyplot as plt\r\n",
        "import numpy as np\r\n",
        "from sklearn.metrics import *\r\n",
        "from sklearn.linear_model import LogisticRegression\r\n",
        "from sklearn.ensemble import RandomForestClassifier\r\n",
        "from sklearn.model_selection import train_test_split\r\n",
        "from sklearn.preprocessing import StandardScaler\r\n",
        "from sklearn.model_selection import cross_val_score\r\n",
        "from sklearn.model_selection import GridSearchCV"
      ],
      "execution_count": 1,
      "outputs": []
    },
    {
      "cell_type": "markdown",
      "metadata": {
        "id": "7SSaHR424aBa"
      },
      "source": [
        "###Reading the dataset"
      ]
    },
    {
      "cell_type": "code",
      "metadata": {
        "id": "hxos9r214eV6"
      },
      "source": [
        "df=pd.read_csv('/content/drive/MyDrive/Data Science Bootcamp/Final Project/English_Saudi Social Bank Data 2015-2020.csv')"
      ],
      "execution_count": 2,
      "outputs": []
    },
    {
      "cell_type": "markdown",
      "metadata": {
        "id": "X0kLRrM43x__"
      },
      "source": [
        "##EDA"
      ]
    },
    {
      "cell_type": "markdown",
      "metadata": {
        "id": "8fh-bYFAVI20"
      },
      "source": [
        "###Data Exploration"
      ]
    },
    {
      "cell_type": "code",
      "metadata": {
        "colab": {
          "base_uri": "https://localhost:8080/",
          "height": 313
        },
        "id": "l6dXJtAq4XRK",
        "outputId": "1425021b-9ab0-4438-8c45-ea076b662f20"
      },
      "source": [
        "df.tail()"
      ],
      "execution_count": 3,
      "outputs": [
        {
          "output_type": "execute_result",
          "data": {
            "text/html": [
              "<div>\n",
              "<style scoped>\n",
              "    .dataframe tbody tr th:only-of-type {\n",
              "        vertical-align: middle;\n",
              "    }\n",
              "\n",
              "    .dataframe tbody tr th {\n",
              "        vertical-align: top;\n",
              "    }\n",
              "\n",
              "    .dataframe thead th {\n",
              "        text-align: right;\n",
              "    }\n",
              "</style>\n",
              "<table border=\"1\" class=\"dataframe\">\n",
              "  <thead>\n",
              "    <tr style=\"text-align: right;\">\n",
              "      <th></th>\n",
              "      <th>bank_branch</th>\n",
              "      <th>loan_type</th>\n",
              "      <th>loan_classification</th>\n",
              "      <th>customer_sector</th>\n",
              "      <th>loan_value</th>\n",
              "      <th>installment</th>\n",
              "      <th>gender</th>\n",
              "      <th>age</th>\n",
              "      <th>social_status</th>\n",
              "      <th>special_needs</th>\n",
              "      <th>family_members</th>\n",
              "      <th>saving_loan</th>\n",
              "      <th>income_value</th>\n",
              "      <th>Year</th>\n",
              "      <th>Month</th>\n",
              "    </tr>\n",
              "  </thead>\n",
              "  <tbody>\n",
              "    <tr>\n",
              "      <th>736678</th>\n",
              "      <td>Hail</td>\n",
              "      <td>Individual</td>\n",
              "      <td>Private</td>\n",
              "      <td>Undefined</td>\n",
              "      <td>30000.0</td>\n",
              "      <td>&lt; 1000</td>\n",
              "      <td>FEMALE</td>\n",
              "      <td>&lt; 30</td>\n",
              "      <td>Divorced</td>\n",
              "      <td>No</td>\n",
              "      <td>&lt; 02</td>\n",
              "      <td>No</td>\n",
              "      <td>&lt; 5000</td>\n",
              "      <td>2020</td>\n",
              "      <td>2</td>\n",
              "    </tr>\n",
              "    <tr>\n",
              "      <th>736679</th>\n",
              "      <td>KhamisMishiat</td>\n",
              "      <td>Individual</td>\n",
              "      <td>Marrage</td>\n",
              "      <td>Undefined</td>\n",
              "      <td>60000.0</td>\n",
              "      <td>&gt;= 1000</td>\n",
              "      <td>MALE</td>\n",
              "      <td>&lt; 30</td>\n",
              "      <td>Married</td>\n",
              "      <td>No</td>\n",
              "      <td>&gt;= 02</td>\n",
              "      <td>No</td>\n",
              "      <td>&lt; 5000</td>\n",
              "      <td>2020</td>\n",
              "      <td>1</td>\n",
              "    </tr>\n",
              "    <tr>\n",
              "      <th>736680</th>\n",
              "      <td>Jeddah</td>\n",
              "      <td>Individual</td>\n",
              "      <td>Marrage</td>\n",
              "      <td>Govrenment_Employee</td>\n",
              "      <td>60000.0</td>\n",
              "      <td>&gt;= 1000</td>\n",
              "      <td>MALE</td>\n",
              "      <td>&lt; 30</td>\n",
              "      <td>Married</td>\n",
              "      <td>No</td>\n",
              "      <td>&gt;= 02</td>\n",
              "      <td>No</td>\n",
              "      <td>&gt;= 10000</td>\n",
              "      <td>2020</td>\n",
              "      <td>1</td>\n",
              "    </tr>\n",
              "    <tr>\n",
              "      <th>736681</th>\n",
              "      <td>AlMajmaah</td>\n",
              "      <td>Individual</td>\n",
              "      <td>Marrage</td>\n",
              "      <td>Undefined</td>\n",
              "      <td>60000.0</td>\n",
              "      <td>&gt;= 1000</td>\n",
              "      <td>MALE</td>\n",
              "      <td>&gt;= 30</td>\n",
              "      <td>Married</td>\n",
              "      <td>No</td>\n",
              "      <td>&gt;= 02</td>\n",
              "      <td>Yes</td>\n",
              "      <td>&lt; 5000</td>\n",
              "      <td>2020</td>\n",
              "      <td>1</td>\n",
              "    </tr>\n",
              "    <tr>\n",
              "      <th>736682</th>\n",
              "      <td>Madinah</td>\n",
              "      <td>Individual</td>\n",
              "      <td>Family</td>\n",
              "      <td>Undefined</td>\n",
              "      <td>24000.0</td>\n",
              "      <td>&lt; 1000</td>\n",
              "      <td>FEMALE</td>\n",
              "      <td>&gt;= 60</td>\n",
              "      <td>Widower</td>\n",
              "      <td>No</td>\n",
              "      <td>&gt;= 02</td>\n",
              "      <td>No</td>\n",
              "      <td>&lt; 5000</td>\n",
              "      <td>2020</td>\n",
              "      <td>1</td>\n",
              "    </tr>\n",
              "  </tbody>\n",
              "</table>\n",
              "</div>"
            ],
            "text/plain": [
              "          bank_branch   loan_type loan_classification  ... income_value  Year Month\n",
              "736678           Hail  Individual             Private  ...       < 5000  2020     2\n",
              "736679  KhamisMishiat  Individual             Marrage  ...       < 5000  2020     1\n",
              "736680         Jeddah  Individual             Marrage  ...     >= 10000  2020     1\n",
              "736681      AlMajmaah  Individual             Marrage  ...       < 5000  2020     1\n",
              "736682        Madinah  Individual              Family  ...       < 5000  2020     1\n",
              "\n",
              "[5 rows x 15 columns]"
            ]
          },
          "metadata": {
            "tags": []
          },
          "execution_count": 3
        }
      ]
    },
    {
      "cell_type": "code",
      "metadata": {
        "colab": {
          "base_uri": "https://localhost:8080/"
        },
        "id": "S3xzgIEU4wyT",
        "outputId": "2abe7946-003d-4b98-9177-b2a329f63350"
      },
      "source": [
        "df.info()"
      ],
      "execution_count": 4,
      "outputs": [
        {
          "output_type": "stream",
          "text": [
            "<class 'pandas.core.frame.DataFrame'>\n",
            "RangeIndex: 736683 entries, 0 to 736682\n",
            "Data columns (total 15 columns):\n",
            " #   Column               Non-Null Count   Dtype  \n",
            "---  ------               --------------   -----  \n",
            " 0   bank_branch          736683 non-null  object \n",
            " 1   loan_type            736683 non-null  object \n",
            " 2   loan_classification  736683 non-null  object \n",
            " 3   customer_sector      497463 non-null  object \n",
            " 4   loan_value           736683 non-null  float64\n",
            " 5   installment          736683 non-null  object \n",
            " 6   gender               736683 non-null  object \n",
            " 7   age                  731346 non-null  object \n",
            " 8   social_status        736683 non-null  object \n",
            " 9   special_needs        736683 non-null  object \n",
            " 10  family_members       735871 non-null  object \n",
            " 11  saving_loan          736683 non-null  object \n",
            " 12  income_value         710276 non-null  object \n",
            " 13  Year                 736683 non-null  int64  \n",
            " 14  Month                736683 non-null  int64  \n",
            "dtypes: float64(1), int64(2), object(12)\n",
            "memory usage: 84.3+ MB\n"
          ],
          "name": "stdout"
        }
      ]
    },
    {
      "cell_type": "code",
      "metadata": {
        "colab": {
          "base_uri": "https://localhost:8080/"
        },
        "id": "5hBnD9kN4zdM",
        "outputId": "b3f1283f-015a-439a-be4d-77a64f24b4c1"
      },
      "source": [
        "df.isnull().sum()"
      ],
      "execution_count": 5,
      "outputs": [
        {
          "output_type": "execute_result",
          "data": {
            "text/plain": [
              "bank_branch                 0\n",
              "loan_type                   0\n",
              "loan_classification         0\n",
              "customer_sector        239220\n",
              "loan_value                  0\n",
              "installment                 0\n",
              "gender                      0\n",
              "age                      5337\n",
              "social_status               0\n",
              "special_needs               0\n",
              "family_members            812\n",
              "saving_loan                 0\n",
              "income_value            26407\n",
              "Year                        0\n",
              "Month                       0\n",
              "dtype: int64"
            ]
          },
          "metadata": {
            "tags": []
          },
          "execution_count": 5
        }
      ]
    },
    {
      "cell_type": "code",
      "metadata": {
        "colab": {
          "base_uri": "https://localhost:8080/"
        },
        "id": "gBMoJPx17RbO",
        "outputId": "35d44efc-6235-4284-83c1-58ff0d12004f"
      },
      "source": [
        "max(df.loan_value)"
      ],
      "execution_count": 6,
      "outputs": [
        {
          "output_type": "execute_result",
          "data": {
            "text/plain": [
              "4000000.0"
            ]
          },
          "metadata": {
            "tags": []
          },
          "execution_count": 6
        }
      ]
    },
    {
      "cell_type": "code",
      "metadata": {
        "colab": {
          "base_uri": "https://localhost:8080/"
        },
        "id": "fFIviQdZV9cq",
        "outputId": "af358f1a-318f-47d8-ef96-9ea69ac25daf"
      },
      "source": [
        "min(df.loan_value)"
      ],
      "execution_count": 7,
      "outputs": [
        {
          "output_type": "execute_result",
          "data": {
            "text/plain": [
              "2750.0"
            ]
          },
          "metadata": {
            "tags": []
          },
          "execution_count": 7
        }
      ]
    },
    {
      "cell_type": "code",
      "metadata": {
        "colab": {
          "base_uri": "https://localhost:8080/",
          "height": 617
        },
        "id": "9lbpq6YV7Xi5",
        "outputId": "93f9a378-f881-46ba-fb21-5e6458459fa7"
      },
      "source": [
        "df[df.loan_value>=1000000]"
      ],
      "execution_count": 8,
      "outputs": [
        {
          "output_type": "execute_result",
          "data": {
            "text/html": [
              "<div>\n",
              "<style scoped>\n",
              "    .dataframe tbody tr th:only-of-type {\n",
              "        vertical-align: middle;\n",
              "    }\n",
              "\n",
              "    .dataframe tbody tr th {\n",
              "        vertical-align: top;\n",
              "    }\n",
              "\n",
              "    .dataframe thead th {\n",
              "        text-align: right;\n",
              "    }\n",
              "</style>\n",
              "<table border=\"1\" class=\"dataframe\">\n",
              "  <thead>\n",
              "    <tr style=\"text-align: right;\">\n",
              "      <th></th>\n",
              "      <th>bank_branch</th>\n",
              "      <th>loan_type</th>\n",
              "      <th>loan_classification</th>\n",
              "      <th>customer_sector</th>\n",
              "      <th>loan_value</th>\n",
              "      <th>installment</th>\n",
              "      <th>gender</th>\n",
              "      <th>age</th>\n",
              "      <th>social_status</th>\n",
              "      <th>special_needs</th>\n",
              "      <th>family_members</th>\n",
              "      <th>saving_loan</th>\n",
              "      <th>income_value</th>\n",
              "      <th>Year</th>\n",
              "      <th>Month</th>\n",
              "    </tr>\n",
              "  </thead>\n",
              "  <tbody>\n",
              "    <tr>\n",
              "      <th>3233</th>\n",
              "      <td>AlKharj</td>\n",
              "      <td>Project</td>\n",
              "      <td>VIP</td>\n",
              "      <td>NaN</td>\n",
              "      <td>1000000.0</td>\n",
              "      <td>&gt;= 1000</td>\n",
              "      <td>MALE</td>\n",
              "      <td>&gt;= 40</td>\n",
              "      <td>Married</td>\n",
              "      <td>No</td>\n",
              "      <td>&lt; 02</td>\n",
              "      <td>No</td>\n",
              "      <td>&lt; 5000</td>\n",
              "      <td>2015</td>\n",
              "      <td>6</td>\n",
              "    </tr>\n",
              "    <tr>\n",
              "      <th>10998</th>\n",
              "      <td>Hail</td>\n",
              "      <td>Project</td>\n",
              "      <td>VIP</td>\n",
              "      <td>NaN</td>\n",
              "      <td>2250739.0</td>\n",
              "      <td>&gt;= 1000</td>\n",
              "      <td>MALE</td>\n",
              "      <td>&gt;= 60</td>\n",
              "      <td>Married</td>\n",
              "      <td>No</td>\n",
              "      <td>&gt;= 10</td>\n",
              "      <td>No</td>\n",
              "      <td>&lt; 5000</td>\n",
              "      <td>2015</td>\n",
              "      <td>1</td>\n",
              "    </tr>\n",
              "    <tr>\n",
              "      <th>12762</th>\n",
              "      <td>Hail</td>\n",
              "      <td>Project</td>\n",
              "      <td>VIP</td>\n",
              "      <td>NaN</td>\n",
              "      <td>1092500.0</td>\n",
              "      <td>&gt;= 1000</td>\n",
              "      <td>MALE</td>\n",
              "      <td>&gt;= 30</td>\n",
              "      <td>Single</td>\n",
              "      <td>No</td>\n",
              "      <td>NaN</td>\n",
              "      <td>No</td>\n",
              "      <td>NaN</td>\n",
              "      <td>2015</td>\n",
              "      <td>5</td>\n",
              "    </tr>\n",
              "    <tr>\n",
              "      <th>16421</th>\n",
              "      <td>AlKharj</td>\n",
              "      <td>Project</td>\n",
              "      <td>VIP</td>\n",
              "      <td>Govrenment_Retired</td>\n",
              "      <td>1206110.0</td>\n",
              "      <td>&gt;= 1000</td>\n",
              "      <td>MALE</td>\n",
              "      <td>&gt;= 40</td>\n",
              "      <td>Married</td>\n",
              "      <td>No</td>\n",
              "      <td>&gt;= 05</td>\n",
              "      <td>No</td>\n",
              "      <td>NaN</td>\n",
              "      <td>2015</td>\n",
              "      <td>1</td>\n",
              "    </tr>\n",
              "    <tr>\n",
              "      <th>18868</th>\n",
              "      <td>AlKharj</td>\n",
              "      <td>Project</td>\n",
              "      <td>VIP</td>\n",
              "      <td>NaN</td>\n",
              "      <td>2394000.0</td>\n",
              "      <td>&gt;= 1000</td>\n",
              "      <td>MALE</td>\n",
              "      <td>&gt;= 30</td>\n",
              "      <td>Married</td>\n",
              "      <td>No</td>\n",
              "      <td>&gt;= 02</td>\n",
              "      <td>No</td>\n",
              "      <td>NaN</td>\n",
              "      <td>2015</td>\n",
              "      <td>2</td>\n",
              "    </tr>\n",
              "    <tr>\n",
              "      <th>...</th>\n",
              "      <td>...</td>\n",
              "      <td>...</td>\n",
              "      <td>...</td>\n",
              "      <td>...</td>\n",
              "      <td>...</td>\n",
              "      <td>...</td>\n",
              "      <td>...</td>\n",
              "      <td>...</td>\n",
              "      <td>...</td>\n",
              "      <td>...</td>\n",
              "      <td>...</td>\n",
              "      <td>...</td>\n",
              "      <td>...</td>\n",
              "      <td>...</td>\n",
              "      <td>...</td>\n",
              "    </tr>\n",
              "    <tr>\n",
              "      <th>729957</th>\n",
              "      <td>Makkah</td>\n",
              "      <td>Business</td>\n",
              "      <td>VIP</td>\n",
              "      <td>Undefined</td>\n",
              "      <td>4000000.0</td>\n",
              "      <td>&gt;= 1000</td>\n",
              "      <td>MALE</td>\n",
              "      <td>&gt;= 40</td>\n",
              "      <td>Married</td>\n",
              "      <td>No</td>\n",
              "      <td>&lt; 02</td>\n",
              "      <td>No</td>\n",
              "      <td>&gt;= 10000</td>\n",
              "      <td>2020</td>\n",
              "      <td>2</td>\n",
              "    </tr>\n",
              "    <tr>\n",
              "      <th>729966</th>\n",
              "      <td>WadiAldawasir</td>\n",
              "      <td>Business</td>\n",
              "      <td>VIP</td>\n",
              "      <td>Undefined</td>\n",
              "      <td>1076000.0</td>\n",
              "      <td>&gt;= 1000</td>\n",
              "      <td>FEMALE</td>\n",
              "      <td>&gt;= 30</td>\n",
              "      <td>Single</td>\n",
              "      <td>No</td>\n",
              "      <td>&lt; 02</td>\n",
              "      <td>No</td>\n",
              "      <td>&lt; 5000</td>\n",
              "      <td>2020</td>\n",
              "      <td>3</td>\n",
              "    </tr>\n",
              "    <tr>\n",
              "      <th>731709</th>\n",
              "      <td>Najran</td>\n",
              "      <td>Business</td>\n",
              "      <td>VIP</td>\n",
              "      <td>Govrenment_Retired</td>\n",
              "      <td>2468000.0</td>\n",
              "      <td>&gt;= 1000</td>\n",
              "      <td>MALE</td>\n",
              "      <td>&gt;= 40</td>\n",
              "      <td>Married</td>\n",
              "      <td>No</td>\n",
              "      <td>&lt; 02</td>\n",
              "      <td>No</td>\n",
              "      <td>&gt;= 10000</td>\n",
              "      <td>2020</td>\n",
              "      <td>1</td>\n",
              "    </tr>\n",
              "    <tr>\n",
              "      <th>732309</th>\n",
              "      <td>Najran</td>\n",
              "      <td>Business</td>\n",
              "      <td>VIP</td>\n",
              "      <td>Undefined</td>\n",
              "      <td>4000000.0</td>\n",
              "      <td>&gt;= 1000</td>\n",
              "      <td>MALE</td>\n",
              "      <td>&gt;= 60</td>\n",
              "      <td>Married</td>\n",
              "      <td>No</td>\n",
              "      <td>&lt; 02</td>\n",
              "      <td>No</td>\n",
              "      <td>&gt;= 10000</td>\n",
              "      <td>2020</td>\n",
              "      <td>2</td>\n",
              "    </tr>\n",
              "    <tr>\n",
              "      <th>732540</th>\n",
              "      <td>Ryiadh</td>\n",
              "      <td>Business</td>\n",
              "      <td>VIP</td>\n",
              "      <td>Undefined</td>\n",
              "      <td>1338000.0</td>\n",
              "      <td>&gt;= 1000</td>\n",
              "      <td>MALE</td>\n",
              "      <td>&gt;= 30</td>\n",
              "      <td>Married</td>\n",
              "      <td>No</td>\n",
              "      <td>&lt; 02</td>\n",
              "      <td>No</td>\n",
              "      <td>&lt; 5000</td>\n",
              "      <td>2020</td>\n",
              "      <td>5</td>\n",
              "    </tr>\n",
              "  </tbody>\n",
              "</table>\n",
              "<p>262 rows × 15 columns</p>\n",
              "</div>"
            ],
            "text/plain": [
              "          bank_branch loan_type loan_classification  ... income_value  Year Month\n",
              "3233          AlKharj   Project                 VIP  ...       < 5000  2015     6\n",
              "10998            Hail   Project                 VIP  ...       < 5000  2015     1\n",
              "12762            Hail   Project                 VIP  ...          NaN  2015     5\n",
              "16421         AlKharj   Project                 VIP  ...          NaN  2015     1\n",
              "18868         AlKharj   Project                 VIP  ...          NaN  2015     2\n",
              "...               ...       ...                 ...  ...          ...   ...   ...\n",
              "729957         Makkah  Business                 VIP  ...     >= 10000  2020     2\n",
              "729966  WadiAldawasir  Business                 VIP  ...       < 5000  2020     3\n",
              "731709         Najran  Business                 VIP  ...     >= 10000  2020     1\n",
              "732309         Najran  Business                 VIP  ...     >= 10000  2020     2\n",
              "732540         Ryiadh  Business                 VIP  ...       < 5000  2020     5\n",
              "\n",
              "[262 rows x 15 columns]"
            ]
          },
          "metadata": {
            "tags": []
          },
          "execution_count": 8
        }
      ]
    },
    {
      "cell_type": "code",
      "metadata": {
        "colab": {
          "base_uri": "https://localhost:8080/"
        },
        "id": "9BVwTQOv_1cJ",
        "outputId": "779f952f-d2d5-49f8-9524-2a37036f0dad"
      },
      "source": [
        "df.shape"
      ],
      "execution_count": 9,
      "outputs": [
        {
          "output_type": "execute_result",
          "data": {
            "text/plain": [
              "(736683, 15)"
            ]
          },
          "metadata": {
            "tags": []
          },
          "execution_count": 9
        }
      ]
    },
    {
      "cell_type": "code",
      "metadata": {
        "colab": {
          "base_uri": "https://localhost:8080/"
        },
        "id": "Z-JWagpZ9cRF",
        "outputId": "3c274a6f-dace-4af2-f1d7-0043818a5e6d"
      },
      "source": [
        "equal60=pd.DataFrame(df[df.loan_value==60000]).loan_value.count()\r\n",
        "print(f'there are {equal60} records that loan value equals 60,000 that represent %{(equal60/df.shape[0])*100}')"
      ],
      "execution_count": 10,
      "outputs": [
        {
          "output_type": "stream",
          "text": [
            "there are 662603 records that loan value equals 60,000 that represent %89.94411436126529\n"
          ],
          "name": "stdout"
        }
      ]
    },
    {
      "cell_type": "code",
      "metadata": {
        "colab": {
          "base_uri": "https://localhost:8080/"
        },
        "id": "c7sbwXtB9xfa",
        "outputId": "95d87d25-725a-4cb5-e336-6b94d80d2826"
      },
      "source": [
        "over60=pd.DataFrame(df[df.loan_value>60000]).loan_value.count()\r\n",
        "print(f'there are {over60} records that loan value over 60,000 that represent %{(over60/df.shape[0])*100}')"
      ],
      "execution_count": 11,
      "outputs": [
        {
          "output_type": "stream",
          "text": [
            "there are 15166 records that loan value over 60,000 that represent %2.058687386569257\n"
          ],
          "name": "stdout"
        }
      ]
    },
    {
      "cell_type": "code",
      "metadata": {
        "colab": {
          "base_uri": "https://localhost:8080/"
        },
        "id": "IT8xjevd92Gc",
        "outputId": "550adecf-66c2-47d5-ccf7-de0fc748a545"
      },
      "source": [
        "under60=pd.DataFrame(df[df.loan_value<60000]).loan_value.count()\r\n",
        "print(f'there are {under60} records that loan value under 60,000 that represent %{(under60/df.shape[0])*100}')"
      ],
      "execution_count": 12,
      "outputs": [
        {
          "output_type": "stream",
          "text": [
            "there are 58914 records that loan value under 60,000 that represent %7.997198252165449\n"
          ],
          "name": "stdout"
        }
      ]
    },
    {
      "cell_type": "markdown",
      "metadata": {
        "id": "GghLb2_fDEhH"
      },
      "source": [
        "Most Frequent values of Age, Family Members and Income Value"
      ]
    },
    {
      "cell_type": "code",
      "metadata": {
        "colab": {
          "base_uri": "https://localhost:8080/",
          "height": 36
        },
        "id": "fnHihgxlDArq",
        "outputId": "cbe46113-4331-4a91-a9e5-4541f4b27fdd"
      },
      "source": [
        "#Most Frequent values of Age\r\n",
        "fage=pd.DataFrame(df.age.value_counts()).index[0]\r\n",
        "fage"
      ],
      "execution_count": 13,
      "outputs": [
        {
          "output_type": "execute_result",
          "data": {
            "application/vnd.google.colaboratory.intrinsic+json": {
              "type": "string"
            },
            "text/plain": [
              "'>= 30'"
            ]
          },
          "metadata": {
            "tags": []
          },
          "execution_count": 13
        }
      ]
    },
    {
      "cell_type": "code",
      "metadata": {
        "colab": {
          "base_uri": "https://localhost:8080/",
          "height": 36
        },
        "id": "OiAZTtMrDSfI",
        "outputId": "c5c61425-451d-4d2d-f1c6-e9d48500b10c"
      },
      "source": [
        "#Most Frequent values of Family Members\r\n",
        "ffamily=pd.DataFrame(df.family_members.value_counts()).index[0]\r\n",
        "ffamily"
      ],
      "execution_count": 14,
      "outputs": [
        {
          "output_type": "execute_result",
          "data": {
            "application/vnd.google.colaboratory.intrinsic+json": {
              "type": "string"
            },
            "text/plain": [
              "'>= 02'"
            ]
          },
          "metadata": {
            "tags": []
          },
          "execution_count": 14
        }
      ]
    },
    {
      "cell_type": "code",
      "metadata": {
        "colab": {
          "base_uri": "https://localhost:8080/",
          "height": 36
        },
        "id": "7LBC-krlDSQJ",
        "outputId": "4cdb78b0-ecb6-4abc-f59e-2e5ddecb039a"
      },
      "source": [
        "#Most Frequent values of Income Value\r\n",
        "fincome=pd.DataFrame(df.income_value.value_counts()).index[0]\r\n",
        "fincome"
      ],
      "execution_count": 15,
      "outputs": [
        {
          "output_type": "execute_result",
          "data": {
            "application/vnd.google.colaboratory.intrinsic+json": {
              "type": "string"
            },
            "text/plain": [
              "'< 5000'"
            ]
          },
          "metadata": {
            "tags": []
          },
          "execution_count": 15
        }
      ]
    },
    {
      "cell_type": "code",
      "metadata": {
        "id": "5wyagIzvWEQz"
      },
      "source": [
        "df1=df.copy()"
      ],
      "execution_count": 16,
      "outputs": []
    },
    {
      "cell_type": "code",
      "metadata": {
        "id": "xdceDXJeWJNZ"
      },
      "source": [
        "df1.loc[df1.loan_value==60000,'loan_value_area']='60K SAR'\r\n",
        "df1.loc[df1.loan_value>60000,'loan_value_area']='Over 60K SAR'\r\n",
        "df1.loc[df1.loan_value<60000,'loan_value_area']='Under 60K SAR'"
      ],
      "execution_count": 17,
      "outputs": []
    },
    {
      "cell_type": "code",
      "metadata": {
        "colab": {
          "base_uri": "https://localhost:8080/"
        },
        "id": "mHN7lj6zWzZn",
        "outputId": "daca3071-b7b3-43ef-f3bf-670bd4f3649f"
      },
      "source": [
        "print(pd.DataFrame(df1[df1.loan_value_area=='Over 60K SAR'].loan_value).describe())"
      ],
      "execution_count": 18,
      "outputs": [
        {
          "output_type": "stream",
          "text": [
            "         loan_value\n",
            "count  1.516600e+04\n",
            "mean   2.044600e+05\n",
            "std    2.427588e+05\n",
            "min    6.004500e+04\n",
            "25%    1.130000e+05\n",
            "50%    1.800000e+05\n",
            "75%    2.230000e+05\n",
            "max    4.000000e+06\n"
          ],
          "name": "stdout"
        }
      ]
    },
    {
      "cell_type": "code",
      "metadata": {
        "colab": {
          "base_uri": "https://localhost:8080/"
        },
        "id": "W_3emEPkWzN3",
        "outputId": "a7698d64-ce4d-47d8-c2fd-28498443c69e"
      },
      "source": [
        "print(pd.DataFrame(df1[df1.loan_value_area=='Under 60K SAR'].loan_value).describe())"
      ],
      "execution_count": 19,
      "outputs": [
        {
          "output_type": "stream",
          "text": [
            "         loan_value\n",
            "count  58914.000000\n",
            "mean   37101.473453\n",
            "std    10847.333879\n",
            "min     2750.000000\n",
            "25%    30000.000000\n",
            "50%    36000.000000\n",
            "75%    48000.000000\n",
            "max    59750.000000\n"
          ],
          "name": "stdout"
        }
      ]
    },
    {
      "cell_type": "code",
      "metadata": {
        "colab": {
          "base_uri": "https://localhost:8080/"
        },
        "id": "DxRV6BE5WzFf",
        "outputId": "558351de-86a5-429c-e2ff-051f89e810d4"
      },
      "source": [
        "print(pd.DataFrame(df1[df1.loan_value_area=='60K SAR'].loan_value).describe())"
      ],
      "execution_count": 20,
      "outputs": [
        {
          "output_type": "stream",
          "text": [
            "       loan_value\n",
            "count    662603.0\n",
            "mean      60000.0\n",
            "std           0.0\n",
            "min       60000.0\n",
            "25%       60000.0\n",
            "50%       60000.0\n",
            "75%       60000.0\n",
            "max       60000.0\n"
          ],
          "name": "stdout"
        }
      ]
    },
    {
      "cell_type": "code",
      "metadata": {
        "colab": {
          "base_uri": "https://localhost:8080/"
        },
        "id": "SeYKYaU1XdeA",
        "outputId": "04e91922-d2b9-437b-ff5a-a5241d7a9490"
      },
      "source": [
        "df1.loan_value_area.value_counts(normalize=True)"
      ],
      "execution_count": 21,
      "outputs": [
        {
          "output_type": "execute_result",
          "data": {
            "text/plain": [
              "60K SAR          0.899441\n",
              "Under 60K SAR    0.079972\n",
              "Over 60K SAR     0.020587\n",
              "Name: loan_value_area, dtype: float64"
            ]
          },
          "metadata": {
            "tags": []
          },
          "execution_count": 21
        }
      ]
    },
    {
      "cell_type": "markdown",
      "metadata": {
        "id": "WuuH7WOYVaVq"
      },
      "source": [
        "###Data Visualization"
      ]
    },
    {
      "cell_type": "code",
      "metadata": {
        "colab": {
          "base_uri": "https://localhost:8080/",
          "height": 569
        },
        "id": "DIXrl0wrVee9",
        "outputId": "5137736f-b547-49e0-b219-b38a4a5c1ed0"
      },
      "source": [
        "sns.pairplot(data=df1)"
      ],
      "execution_count": 22,
      "outputs": [
        {
          "output_type": "execute_result",
          "data": {
            "text/plain": [
              "<seaborn.axisgrid.PairGrid at 0x7faa063e0d10>"
            ]
          },
          "metadata": {
            "tags": []
          },
          "execution_count": 22
        },
        {
          "output_type": "display_data",
          "data": {
            "image/png": "[encoded data removed]",
            "text/plain": [
              "<Figure size 540x540 with 12 Axes>"
            ]
          },
          "metadata": {
            "tags": [],
            "needs_background": "light"
          }
        }
      ]
    },
    {
      "cell_type": "code",
      "metadata": {
        "colab": {
          "base_uri": "https://localhost:8080/",
          "height": 298
        },
        "id": "zkaVLt4AVeYS",
        "outputId": "8b7c0245-4895-4a2f-de3d-83c9d1e61280"
      },
      "source": [
        "sns.lineplot(x=df1.Year,y= df1.loan_value)"
      ],
      "execution_count": 23,
      "outputs": [
        {
          "output_type": "execute_result",
          "data": {
            "text/plain": [
              "<matplotlib.axes._subplots.AxesSubplot at 0x7faa063e0390>"
            ]
          },
          "metadata": {
            "tags": []
          },
          "execution_count": 23
        },
        {
          "output_type": "display_data",
          "data": {
            "image/png": "[encoded data removed]",
            "text/plain": [
              "<Figure size 432x288 with 1 Axes>"
            ]
          },
          "metadata": {
            "tags": [],
            "needs_background": "light"
          }
        }
      ]
    },
    {
      "cell_type": "code",
      "metadata": {
        "colab": {
          "base_uri": "https://localhost:8080/",
          "height": 298
        },
        "id": "yxDoE2ddVeVR",
        "outputId": "c5a3ea11-a1b9-49a1-865a-1fbe03fb288b"
      },
      "source": [
        "sns.lineplot(x=df1.Year,y=df1.loan_value,hue=df1.loan_value_area)#Average loan by categories in the five years"
      ],
      "execution_count": 24,
      "outputs": [
        {
          "output_type": "execute_result",
          "data": {
            "text/plain": [
              "<matplotlib.axes._subplots.AxesSubplot at 0x7faa04a25cd0>"
            ]
          },
          "metadata": {
            "tags": []
          },
          "execution_count": 24
        },
        {
          "output_type": "display_data",
          "data": {
            "image/png": "[encoded data removed]",
            "text/plain": [
              "<Figure size 432x288 with 1 Axes>"
            ]
          },
          "metadata": {
            "tags": [],
            "needs_background": "light"
          }
        }
      ]
    },
    {
      "cell_type": "code",
      "metadata": {
        "colab": {
          "base_uri": "https://localhost:8080/",
          "height": 399
        },
        "id": "UHGEAlW7VeSd",
        "outputId": "56f083ac-1432-46c1-cae0-41a9212d8741"
      },
      "source": [
        "fig=plt.figure(figsize=(27,7))\r\n",
        "plt.title('Average Loan Value of Loan Areas per Loan Calassification')\r\n",
        "sns.barplot(y=df1.loan_value,x=df1.loan_classification,hue=df1.loan_value_area);"
      ],
      "execution_count": 25,
      "outputs": [
        {
          "output_type": "display_data",
          "data": {
            "image/png": "[encoded data removed]",
            "text/plain": [
              "<Figure size 1944x504 with 1 Axes>"
            ]
          },
          "metadata": {
            "tags": [],
            "needs_background": "light"
          }
        }
      ]
    },
    {
      "cell_type": "code",
      "metadata": {
        "colab": {
          "base_uri": "https://localhost:8080/",
          "height": 459
        },
        "id": "Av_xYnVsVePk",
        "outputId": "2f50ed9a-8740-4bf8-b0f8-d4e13af7d1e6"
      },
      "source": [
        "fig=plt.figure(figsize=(15,7))\r\n",
        "plt.title('Average Loan Value of Loan Areas per Loan Type')\r\n",
        "sns.barplot(y=df1.loan_value,x=df1.loan_type,hue=df1.loan_value_area);"
      ],
      "execution_count": 26,
      "outputs": [
        {
          "output_type": "display_data",
          "data": {
            "image/png": "[encoded data removed]",
            "text/plain": [
              "<Figure size 1080x504 with 1 Axes>"
            ]
          },
          "metadata": {
            "tags": [],
            "needs_background": "light"
          }
        }
      ]
    },
    {
      "cell_type": "code",
      "metadata": {
        "colab": {
          "base_uri": "https://localhost:8080/",
          "height": 359
        },
        "id": "_WaCOXG8VeMs",
        "outputId": "184f885a-431c-4818-d8a5-648e85ad4a86"
      },
      "source": [
        "fig=plt.figure(figsize=(30,7))\r\n",
        "plt.title(\"Average Loan Value of Loan Areas per Bank's brances\")\r\n",
        "sns.barplot(y=df1.loan_value,x=df1.bank_branch,hue=df1.loan_value_area);"
      ],
      "execution_count": 27,
      "outputs": [
        {
          "output_type": "display_data",
          "data": {
            "image/png": "[encoded data removed]",
            "text/plain": [
              "<Figure size 2160x504 with 1 Axes>"
            ]
          },
          "metadata": {
            "tags": [],
            "needs_background": "light"
          }
        }
      ]
    },
    {
      "cell_type": "code",
      "metadata": {
        "colab": {
          "base_uri": "https://localhost:8080/",
          "height": 299
        },
        "id": "1kytH3nbVebJ",
        "outputId": "99bbd8f4-8844-4ba0-94b8-926cf97129ef"
      },
      "source": [
        "sns.boxplot(x=df1.loan_value)"
      ],
      "execution_count": 28,
      "outputs": [
        {
          "output_type": "execute_result",
          "data": {
            "text/plain": [
              "<matplotlib.axes._subplots.AxesSubplot at 0x7faa04ab0650>"
            ]
          },
          "metadata": {
            "tags": []
          },
          "execution_count": 28
        },
        {
          "output_type": "display_data",
          "data": {
            "image/png": "[encoded data removed]",
            "text/plain": [
              "<Figure size 432x288 with 1 Axes>"
            ]
          },
          "metadata": {
            "tags": [],
            "needs_background": "light"
          }
        }
      ]
    },
    {
      "cell_type": "code",
      "metadata": {
        "colab": {
          "base_uri": "https://localhost:8080/",
          "height": 339
        },
        "id": "-XJ7ya-uVeKC",
        "outputId": "65bc32d9-2825-4369-b0fa-c3a3f394ce7b"
      },
      "source": [
        "sns.boxplot(df1[df1.loan_value_area=='Under 60K SAR'].loan_value);"
      ],
      "execution_count": 29,
      "outputs": [
        {
          "output_type": "stream",
          "text": [
            "/usr/local/lib/python3.7/dist-packages/seaborn/_decorators.py:43: FutureWarning: Pass the following variable as a keyword arg: x. From version 0.12, the only valid positional argument will be `data`, and passing other arguments without an explicit keyword will result in an error or misinterpretation.\n",
            "  FutureWarning\n"
          ],
          "name": "stderr"
        },
        {
          "output_type": "display_data",
          "data": {
            "image/png": "[encoded data removed]",
            "text/plain": [
              "<Figure size 432x288 with 1 Axes>"
            ]
          },
          "metadata": {
            "tags": [],
            "needs_background": "light"
          }
        }
      ]
    },
    {
      "cell_type": "code",
      "metadata": {
        "colab": {
          "base_uri": "https://localhost:8080/",
          "height": 339
        },
        "id": "i-d1aQqFVeHF",
        "outputId": "5bd97db8-8b25-410b-d690-6b95cbe5b3d8"
      },
      "source": [
        "sns.boxplot(df1[df1.loan_value_area=='Over 60K SAR'].loan_value);"
      ],
      "execution_count": 30,
      "outputs": [
        {
          "output_type": "stream",
          "text": [
            "/usr/local/lib/python3.7/dist-packages/seaborn/_decorators.py:43: FutureWarning: Pass the following variable as a keyword arg: x. From version 0.12, the only valid positional argument will be `data`, and passing other arguments without an explicit keyword will result in an error or misinterpretation.\n",
            "  FutureWarning\n"
          ],
          "name": "stderr"
        },
        {
          "output_type": "display_data",
          "data": {
            "image/png": "[encoded data removed]",
            "text/plain": [
              "<Figure size 432x288 with 1 Axes>"
            ]
          },
          "metadata": {
            "tags": [],
            "needs_background": "light"
          }
        }
      ]
    },
    {
      "cell_type": "code",
      "metadata": {
        "colab": {
          "base_uri": "https://localhost:8080/",
          "height": 264
        },
        "id": "TDS4Rlu5VeEI",
        "outputId": "a6e77fb3-b8c0-4ae3-eae8-7e4c77213b00"
      },
      "source": [
        "plt.title('Distribution of Loan Value Areas')\r\n",
        "label=['60K SAR','Under 60K SAR','Over 60K SAR']\r\n",
        "plt.pie(df1.loan_value_area.value_counts(), labels=label, autopct='%1.0f%%', labeldistance=1.2);\r\n"
      ],
      "execution_count": 31,
      "outputs": [
        {
          "output_type": "display_data",
          "data": {
            "image/png": "[encoded data removed]",
            "text/plain": [
              "<Figure size 432x288 with 1 Axes>"
            ]
          },
          "metadata": {
            "tags": []
          }
        }
      ]
    },
    {
      "cell_type": "code",
      "metadata": {
        "colab": {
          "base_uri": "https://localhost:8080/",
          "height": 300
        },
        "id": "-t81cGRzVeBH",
        "outputId": "b4edeaeb-4396-4b43-99c1-8a54231d5708"
      },
      "source": [
        "plt.title('Distribution of Loan Value Areas')\r\n",
        "sns.barplot(x=label,y=df1.loan_value_area.value_counts(normalize=True))\r\n",
        "plt.xlabel('Loan Value Area')\r\n",
        "plt.ylabel('Distribution');"
      ],
      "execution_count": 32,
      "outputs": [
        {
          "output_type": "execute_result",
          "data": {
            "text/plain": [
              "Text(0, 0.5, 'Distribution')"
            ]
          },
          "metadata": {
            "tags": []
          },
          "execution_count": 32
        },
        {
          "output_type": "display_data",
          "data": {
            "image/png": "[encoded data removed]",
            "text/plain": [
              "<Figure size 432x288 with 1 Axes>"
            ]
          },
          "metadata": {
            "tags": [],
            "needs_background": "light"
          }
        }
      ]
    },
    {
      "cell_type": "markdown",
      "metadata": {
        "id": "h0hlZ4Pv3x64"
      },
      "source": [
        "##Data Prepration"
      ]
    },
    {
      "cell_type": "markdown",
      "metadata": {
        "id": "E70Xcb-jGAxu"
      },
      "source": [
        "###Adding a New Feature"
      ]
    },
    {
      "cell_type": "code",
      "metadata": {
        "id": "eL3czyJKGSLs"
      },
      "source": [
        "df.loc[df.loan_value==60000,'descriptive_loan_value']='60K SAR'\r\n",
        "df.loc[df.loan_value>60000,'descriptive_loan_value']='Over 60K SAR'\r\n",
        "df.loc[df.loan_value<60000,'descriptive_loan_value']='Under 60K SAR'"
      ],
      "execution_count": 33,
      "outputs": []
    },
    {
      "cell_type": "code",
      "metadata": {
        "colab": {
          "base_uri": "https://localhost:8080/",
          "height": 617
        },
        "id": "Sg_xJfpeIdo5",
        "outputId": "b49e8e6a-20d1-4db7-e4f8-56f03d96abc9"
      },
      "source": [
        "df"
      ],
      "execution_count": 34,
      "outputs": [
        {
          "output_type": "execute_result",
          "data": {
            "text/html": [
              "<div>\n",
              "<style scoped>\n",
              "    .dataframe tbody tr th:only-of-type {\n",
              "        vertical-align: middle;\n",
              "    }\n",
              "\n",
              "    .dataframe tbody tr th {\n",
              "        vertical-align: top;\n",
              "    }\n",
              "\n",
              "    .dataframe thead th {\n",
              "        text-align: right;\n",
              "    }\n",
              "</style>\n",
              "<table border=\"1\" class=\"dataframe\">\n",
              "  <thead>\n",
              "    <tr style=\"text-align: right;\">\n",
              "      <th></th>\n",
              "      <th>bank_branch</th>\n",
              "      <th>loan_type</th>\n",
              "      <th>loan_classification</th>\n",
              "      <th>customer_sector</th>\n",
              "      <th>loan_value</th>\n",
              "      <th>installment</th>\n",
              "      <th>gender</th>\n",
              "      <th>age</th>\n",
              "      <th>social_status</th>\n",
              "      <th>special_needs</th>\n",
              "      <th>family_members</th>\n",
              "      <th>saving_loan</th>\n",
              "      <th>income_value</th>\n",
              "      <th>Year</th>\n",
              "      <th>Month</th>\n",
              "      <th>descriptive_loan_value</th>\n",
              "    </tr>\n",
              "  </thead>\n",
              "  <tbody>\n",
              "    <tr>\n",
              "      <th>0</th>\n",
              "      <td>Madinah</td>\n",
              "      <td>Social</td>\n",
              "      <td>Marrage</td>\n",
              "      <td>Govrenmental_Company_Employee</td>\n",
              "      <td>60000.0</td>\n",
              "      <td>&gt;= 1000</td>\n",
              "      <td>MALE</td>\n",
              "      <td>&gt;= 30</td>\n",
              "      <td>Married</td>\n",
              "      <td>No</td>\n",
              "      <td>&gt;= 02</td>\n",
              "      <td>No</td>\n",
              "      <td>&gt;= 5000</td>\n",
              "      <td>2015</td>\n",
              "      <td>1</td>\n",
              "      <td>60K SAR</td>\n",
              "    </tr>\n",
              "    <tr>\n",
              "      <th>1</th>\n",
              "      <td>Madinah</td>\n",
              "      <td>Social</td>\n",
              "      <td>Marrage</td>\n",
              "      <td>Govrenment_Employee</td>\n",
              "      <td>60000.0</td>\n",
              "      <td>&lt; 1000</td>\n",
              "      <td>MALE</td>\n",
              "      <td>&gt;= 30</td>\n",
              "      <td>Married</td>\n",
              "      <td>Yes</td>\n",
              "      <td>&gt;= 02</td>\n",
              "      <td>No</td>\n",
              "      <td>&gt;= 5000</td>\n",
              "      <td>2015</td>\n",
              "      <td>1</td>\n",
              "      <td>60K SAR</td>\n",
              "    </tr>\n",
              "    <tr>\n",
              "      <th>2</th>\n",
              "      <td>Madinah</td>\n",
              "      <td>Social</td>\n",
              "      <td>Marrage</td>\n",
              "      <td>Govrenment_Employee</td>\n",
              "      <td>60000.0</td>\n",
              "      <td>&lt; 1000</td>\n",
              "      <td>MALE</td>\n",
              "      <td>&lt; 30</td>\n",
              "      <td>Married</td>\n",
              "      <td>No</td>\n",
              "      <td>&gt;= 02</td>\n",
              "      <td>No</td>\n",
              "      <td>&lt; 5000</td>\n",
              "      <td>2015</td>\n",
              "      <td>6</td>\n",
              "      <td>60K SAR</td>\n",
              "    </tr>\n",
              "    <tr>\n",
              "      <th>3</th>\n",
              "      <td>Madinah</td>\n",
              "      <td>Social</td>\n",
              "      <td>Marrage</td>\n",
              "      <td>Govrenment_Employee</td>\n",
              "      <td>60000.0</td>\n",
              "      <td>&lt; 1000</td>\n",
              "      <td>MALE</td>\n",
              "      <td>&lt; 30</td>\n",
              "      <td>Married</td>\n",
              "      <td>No</td>\n",
              "      <td>&gt;= 02</td>\n",
              "      <td>No</td>\n",
              "      <td>&gt;= 10000</td>\n",
              "      <td>2015</td>\n",
              "      <td>6</td>\n",
              "      <td>60K SAR</td>\n",
              "    </tr>\n",
              "    <tr>\n",
              "      <th>4</th>\n",
              "      <td>Madinah</td>\n",
              "      <td>Social</td>\n",
              "      <td>Family</td>\n",
              "      <td>NaN</td>\n",
              "      <td>60000.0</td>\n",
              "      <td>&lt; 1000</td>\n",
              "      <td>FEMALE</td>\n",
              "      <td>&gt;= 40</td>\n",
              "      <td>Widower</td>\n",
              "      <td>No</td>\n",
              "      <td>&gt;= 05</td>\n",
              "      <td>No</td>\n",
              "      <td>&lt; 5000</td>\n",
              "      <td>2015</td>\n",
              "      <td>6</td>\n",
              "      <td>60K SAR</td>\n",
              "    </tr>\n",
              "    <tr>\n",
              "      <th>...</th>\n",
              "      <td>...</td>\n",
              "      <td>...</td>\n",
              "      <td>...</td>\n",
              "      <td>...</td>\n",
              "      <td>...</td>\n",
              "      <td>...</td>\n",
              "      <td>...</td>\n",
              "      <td>...</td>\n",
              "      <td>...</td>\n",
              "      <td>...</td>\n",
              "      <td>...</td>\n",
              "      <td>...</td>\n",
              "      <td>...</td>\n",
              "      <td>...</td>\n",
              "      <td>...</td>\n",
              "      <td>...</td>\n",
              "    </tr>\n",
              "    <tr>\n",
              "      <th>736678</th>\n",
              "      <td>Hail</td>\n",
              "      <td>Individual</td>\n",
              "      <td>Private</td>\n",
              "      <td>Undefined</td>\n",
              "      <td>30000.0</td>\n",
              "      <td>&lt; 1000</td>\n",
              "      <td>FEMALE</td>\n",
              "      <td>&lt; 30</td>\n",
              "      <td>Divorced</td>\n",
              "      <td>No</td>\n",
              "      <td>&lt; 02</td>\n",
              "      <td>No</td>\n",
              "      <td>&lt; 5000</td>\n",
              "      <td>2020</td>\n",
              "      <td>2</td>\n",
              "      <td>Under 60K SAR</td>\n",
              "    </tr>\n",
              "    <tr>\n",
              "      <th>736679</th>\n",
              "      <td>KhamisMishiat</td>\n",
              "      <td>Individual</td>\n",
              "      <td>Marrage</td>\n",
              "      <td>Undefined</td>\n",
              "      <td>60000.0</td>\n",
              "      <td>&gt;= 1000</td>\n",
              "      <td>MALE</td>\n",
              "      <td>&lt; 30</td>\n",
              "      <td>Married</td>\n",
              "      <td>No</td>\n",
              "      <td>&gt;= 02</td>\n",
              "      <td>No</td>\n",
              "      <td>&lt; 5000</td>\n",
              "      <td>2020</td>\n",
              "      <td>1</td>\n",
              "      <td>60K SAR</td>\n",
              "    </tr>\n",
              "    <tr>\n",
              "      <th>736680</th>\n",
              "      <td>Jeddah</td>\n",
              "      <td>Individual</td>\n",
              "      <td>Marrage</td>\n",
              "      <td>Govrenment_Employee</td>\n",
              "      <td>60000.0</td>\n",
              "      <td>&gt;= 1000</td>\n",
              "      <td>MALE</td>\n",
              "      <td>&lt; 30</td>\n",
              "      <td>Married</td>\n",
              "      <td>No</td>\n",
              "      <td>&gt;= 02</td>\n",
              "      <td>No</td>\n",
              "      <td>&gt;= 10000</td>\n",
              "      <td>2020</td>\n",
              "      <td>1</td>\n",
              "      <td>60K SAR</td>\n",
              "    </tr>\n",
              "    <tr>\n",
              "      <th>736681</th>\n",
              "      <td>AlMajmaah</td>\n",
              "      <td>Individual</td>\n",
              "      <td>Marrage</td>\n",
              "      <td>Undefined</td>\n",
              "      <td>60000.0</td>\n",
              "      <td>&gt;= 1000</td>\n",
              "      <td>MALE</td>\n",
              "      <td>&gt;= 30</td>\n",
              "      <td>Married</td>\n",
              "      <td>No</td>\n",
              "      <td>&gt;= 02</td>\n",
              "      <td>Yes</td>\n",
              "      <td>&lt; 5000</td>\n",
              "      <td>2020</td>\n",
              "      <td>1</td>\n",
              "      <td>60K SAR</td>\n",
              "    </tr>\n",
              "    <tr>\n",
              "      <th>736682</th>\n",
              "      <td>Madinah</td>\n",
              "      <td>Individual</td>\n",
              "      <td>Family</td>\n",
              "      <td>Undefined</td>\n",
              "      <td>24000.0</td>\n",
              "      <td>&lt; 1000</td>\n",
              "      <td>FEMALE</td>\n",
              "      <td>&gt;= 60</td>\n",
              "      <td>Widower</td>\n",
              "      <td>No</td>\n",
              "      <td>&gt;= 02</td>\n",
              "      <td>No</td>\n",
              "      <td>&lt; 5000</td>\n",
              "      <td>2020</td>\n",
              "      <td>1</td>\n",
              "      <td>Under 60K SAR</td>\n",
              "    </tr>\n",
              "  </tbody>\n",
              "</table>\n",
              "<p>736683 rows × 16 columns</p>\n",
              "</div>"
            ],
            "text/plain": [
              "          bank_branch   loan_type  ... Month descriptive_loan_value\n",
              "0             Madinah      Social  ...     1                60K SAR\n",
              "1             Madinah      Social  ...     1                60K SAR\n",
              "2             Madinah      Social  ...     6                60K SAR\n",
              "3             Madinah      Social  ...     6                60K SAR\n",
              "4             Madinah      Social  ...     6                60K SAR\n",
              "...               ...         ...  ...   ...                    ...\n",
              "736678           Hail  Individual  ...     2          Under 60K SAR\n",
              "736679  KhamisMishiat  Individual  ...     1                60K SAR\n",
              "736680         Jeddah  Individual  ...     1                60K SAR\n",
              "736681      AlMajmaah  Individual  ...     1                60K SAR\n",
              "736682        Madinah  Individual  ...     1          Under 60K SAR\n",
              "\n",
              "[736683 rows x 16 columns]"
            ]
          },
          "metadata": {
            "tags": []
          },
          "execution_count": 34
        }
      ]
    },
    {
      "cell_type": "markdown",
      "metadata": {
        "id": "4L4lJ-5efKlh"
      },
      "source": [
        "###Data Cleansing"
      ]
    },
    {
      "cell_type": "markdown",
      "metadata": {
        "id": "UFUXM5fxBrcd"
      },
      "source": [
        "Filling Nulls in Customer Sectors with \"Undifined\""
      ]
    },
    {
      "cell_type": "code",
      "metadata": {
        "id": "A583Z5RwBMP1"
      },
      "source": [
        "df.customer_sector.fillna('Undefined',inplace=True)"
      ],
      "execution_count": 35,
      "outputs": []
    },
    {
      "cell_type": "markdown",
      "metadata": {
        "id": "UfrOGQuSB3Sl"
      },
      "source": [
        "Filling Nulls in Age, Family Members and Income Value with the most frecuent value"
      ]
    },
    {
      "cell_type": "code",
      "metadata": {
        "id": "JCbgP7GYCIjV"
      },
      "source": [
        "df.age.fillna(fage,inplace=True)"
      ],
      "execution_count": 36,
      "outputs": []
    },
    {
      "cell_type": "code",
      "metadata": {
        "id": "OBZSgPWYD2T-"
      },
      "source": [
        "df.family_members.fillna(ffamily,inplace=True)"
      ],
      "execution_count": 37,
      "outputs": []
    },
    {
      "cell_type": "code",
      "metadata": {
        "id": "89-yVwqAD2P7"
      },
      "source": [
        "df.income_value.fillna(fincome,inplace=True)"
      ],
      "execution_count": 38,
      "outputs": []
    },
    {
      "cell_type": "markdown",
      "metadata": {
        "id": "ImaJ1h9bD3yr"
      },
      "source": [
        "Checking Nulls"
      ]
    },
    {
      "cell_type": "code",
      "metadata": {
        "colab": {
          "base_uri": "https://localhost:8080/"
        },
        "id": "0-ohXwfX5Abu",
        "outputId": "226d5c76-9a76-4d5a-ab33-1c9db0115edc"
      },
      "source": [
        "df.isnull().sum()"
      ],
      "execution_count": 39,
      "outputs": [
        {
          "output_type": "execute_result",
          "data": {
            "text/plain": [
              "bank_branch               0\n",
              "loan_type                 0\n",
              "loan_classification       0\n",
              "customer_sector           0\n",
              "loan_value                0\n",
              "installment               0\n",
              "gender                    0\n",
              "age                       0\n",
              "social_status             0\n",
              "special_needs             0\n",
              "family_members            0\n",
              "saving_loan               0\n",
              "income_value              0\n",
              "Year                      0\n",
              "Month                     0\n",
              "descriptive_loan_value    0\n",
              "dtype: int64"
            ]
          },
          "metadata": {
            "tags": []
          },
          "execution_count": 39
        }
      ]
    },
    {
      "cell_type": "markdown",
      "metadata": {
        "id": "Gqwi3YFWeLja"
      },
      "source": [
        "Correcting a bank branch Arabic value"
      ]
    },
    {
      "cell_type": "code",
      "metadata": {
        "id": "a_BEibkreKZu"
      },
      "source": [
        "df['bank_branch']=df.bank_branch.replace('حفر الباطن','HafarAlbatin')"
      ],
      "execution_count": 40,
      "outputs": []
    },
    {
      "cell_type": "code",
      "metadata": {
        "colab": {
          "base_uri": "https://localhost:8080/",
          "height": 617
        },
        "id": "oTyKtrZYO4Dx",
        "outputId": "08b61f0b-f4b2-41c7-dfbd-c9fe70515c42"
      },
      "source": [
        "df"
      ],
      "execution_count": 41,
      "outputs": [
        {
          "output_type": "execute_result",
          "data": {
            "text/html": [
              "<div>\n",
              "<style scoped>\n",
              "    .dataframe tbody tr th:only-of-type {\n",
              "        vertical-align: middle;\n",
              "    }\n",
              "\n",
              "    .dataframe tbody tr th {\n",
              "        vertical-align: top;\n",
              "    }\n",
              "\n",
              "    .dataframe thead th {\n",
              "        text-align: right;\n",
              "    }\n",
              "</style>\n",
              "<table border=\"1\" class=\"dataframe\">\n",
              "  <thead>\n",
              "    <tr style=\"text-align: right;\">\n",
              "      <th></th>\n",
              "      <th>bank_branch</th>\n",
              "      <th>loan_type</th>\n",
              "      <th>loan_classification</th>\n",
              "      <th>customer_sector</th>\n",
              "      <th>loan_value</th>\n",
              "      <th>installment</th>\n",
              "      <th>gender</th>\n",
              "      <th>age</th>\n",
              "      <th>social_status</th>\n",
              "      <th>special_needs</th>\n",
              "      <th>family_members</th>\n",
              "      <th>saving_loan</th>\n",
              "      <th>income_value</th>\n",
              "      <th>Year</th>\n",
              "      <th>Month</th>\n",
              "      <th>descriptive_loan_value</th>\n",
              "    </tr>\n",
              "  </thead>\n",
              "  <tbody>\n",
              "    <tr>\n",
              "      <th>0</th>\n",
              "      <td>Madinah</td>\n",
              "      <td>Social</td>\n",
              "      <td>Marrage</td>\n",
              "      <td>Govrenmental_Company_Employee</td>\n",
              "      <td>60000.0</td>\n",
              "      <td>&gt;= 1000</td>\n",
              "      <td>MALE</td>\n",
              "      <td>&gt;= 30</td>\n",
              "      <td>Married</td>\n",
              "      <td>No</td>\n",
              "      <td>&gt;= 02</td>\n",
              "      <td>No</td>\n",
              "      <td>&gt;= 5000</td>\n",
              "      <td>2015</td>\n",
              "      <td>1</td>\n",
              "      <td>60K SAR</td>\n",
              "    </tr>\n",
              "    <tr>\n",
              "      <th>1</th>\n",
              "      <td>Madinah</td>\n",
              "      <td>Social</td>\n",
              "      <td>Marrage</td>\n",
              "      <td>Govrenment_Employee</td>\n",
              "      <td>60000.0</td>\n",
              "      <td>&lt; 1000</td>\n",
              "      <td>MALE</td>\n",
              "      <td>&gt;= 30</td>\n",
              "      <td>Married</td>\n",
              "      <td>Yes</td>\n",
              "      <td>&gt;= 02</td>\n",
              "      <td>No</td>\n",
              "      <td>&gt;= 5000</td>\n",
              "      <td>2015</td>\n",
              "      <td>1</td>\n",
              "      <td>60K SAR</td>\n",
              "    </tr>\n",
              "    <tr>\n",
              "      <th>2</th>\n",
              "      <td>Madinah</td>\n",
              "      <td>Social</td>\n",
              "      <td>Marrage</td>\n",
              "      <td>Govrenment_Employee</td>\n",
              "      <td>60000.0</td>\n",
              "      <td>&lt; 1000</td>\n",
              "      <td>MALE</td>\n",
              "      <td>&lt; 30</td>\n",
              "      <td>Married</td>\n",
              "      <td>No</td>\n",
              "      <td>&gt;= 02</td>\n",
              "      <td>No</td>\n",
              "      <td>&lt; 5000</td>\n",
              "      <td>2015</td>\n",
              "      <td>6</td>\n",
              "      <td>60K SAR</td>\n",
              "    </tr>\n",
              "    <tr>\n",
              "      <th>3</th>\n",
              "      <td>Madinah</td>\n",
              "      <td>Social</td>\n",
              "      <td>Marrage</td>\n",
              "      <td>Govrenment_Employee</td>\n",
              "      <td>60000.0</td>\n",
              "      <td>&lt; 1000</td>\n",
              "      <td>MALE</td>\n",
              "      <td>&lt; 30</td>\n",
              "      <td>Married</td>\n",
              "      <td>No</td>\n",
              "      <td>&gt;= 02</td>\n",
              "      <td>No</td>\n",
              "      <td>&gt;= 10000</td>\n",
              "      <td>2015</td>\n",
              "      <td>6</td>\n",
              "      <td>60K SAR</td>\n",
              "    </tr>\n",
              "    <tr>\n",
              "      <th>4</th>\n",
              "      <td>Madinah</td>\n",
              "      <td>Social</td>\n",
              "      <td>Family</td>\n",
              "      <td>Undefined</td>\n",
              "      <td>60000.0</td>\n",
              "      <td>&lt; 1000</td>\n",
              "      <td>FEMALE</td>\n",
              "      <td>&gt;= 40</td>\n",
              "      <td>Widower</td>\n",
              "      <td>No</td>\n",
              "      <td>&gt;= 05</td>\n",
              "      <td>No</td>\n",
              "      <td>&lt; 5000</td>\n",
              "      <td>2015</td>\n",
              "      <td>6</td>\n",
              "      <td>60K SAR</td>\n",
              "    </tr>\n",
              "    <tr>\n",
              "      <th>...</th>\n",
              "      <td>...</td>\n",
              "      <td>...</td>\n",
              "      <td>...</td>\n",
              "      <td>...</td>\n",
              "      <td>...</td>\n",
              "      <td>...</td>\n",
              "      <td>...</td>\n",
              "      <td>...</td>\n",
              "      <td>...</td>\n",
              "      <td>...</td>\n",
              "      <td>...</td>\n",
              "      <td>...</td>\n",
              "      <td>...</td>\n",
              "      <td>...</td>\n",
              "      <td>...</td>\n",
              "      <td>...</td>\n",
              "    </tr>\n",
              "    <tr>\n",
              "      <th>736678</th>\n",
              "      <td>Hail</td>\n",
              "      <td>Individual</td>\n",
              "      <td>Private</td>\n",
              "      <td>Undefined</td>\n",
              "      <td>30000.0</td>\n",
              "      <td>&lt; 1000</td>\n",
              "      <td>FEMALE</td>\n",
              "      <td>&lt; 30</td>\n",
              "      <td>Divorced</td>\n",
              "      <td>No</td>\n",
              "      <td>&lt; 02</td>\n",
              "      <td>No</td>\n",
              "      <td>&lt; 5000</td>\n",
              "      <td>2020</td>\n",
              "      <td>2</td>\n",
              "      <td>Under 60K SAR</td>\n",
              "    </tr>\n",
              "    <tr>\n",
              "      <th>736679</th>\n",
              "      <td>KhamisMishiat</td>\n",
              "      <td>Individual</td>\n",
              "      <td>Marrage</td>\n",
              "      <td>Undefined</td>\n",
              "      <td>60000.0</td>\n",
              "      <td>&gt;= 1000</td>\n",
              "      <td>MALE</td>\n",
              "      <td>&lt; 30</td>\n",
              "      <td>Married</td>\n",
              "      <td>No</td>\n",
              "      <td>&gt;= 02</td>\n",
              "      <td>No</td>\n",
              "      <td>&lt; 5000</td>\n",
              "      <td>2020</td>\n",
              "      <td>1</td>\n",
              "      <td>60K SAR</td>\n",
              "    </tr>\n",
              "    <tr>\n",
              "      <th>736680</th>\n",
              "      <td>Jeddah</td>\n",
              "      <td>Individual</td>\n",
              "      <td>Marrage</td>\n",
              "      <td>Govrenment_Employee</td>\n",
              "      <td>60000.0</td>\n",
              "      <td>&gt;= 1000</td>\n",
              "      <td>MALE</td>\n",
              "      <td>&lt; 30</td>\n",
              "      <td>Married</td>\n",
              "      <td>No</td>\n",
              "      <td>&gt;= 02</td>\n",
              "      <td>No</td>\n",
              "      <td>&gt;= 10000</td>\n",
              "      <td>2020</td>\n",
              "      <td>1</td>\n",
              "      <td>60K SAR</td>\n",
              "    </tr>\n",
              "    <tr>\n",
              "      <th>736681</th>\n",
              "      <td>AlMajmaah</td>\n",
              "      <td>Individual</td>\n",
              "      <td>Marrage</td>\n",
              "      <td>Undefined</td>\n",
              "      <td>60000.0</td>\n",
              "      <td>&gt;= 1000</td>\n",
              "      <td>MALE</td>\n",
              "      <td>&gt;= 30</td>\n",
              "      <td>Married</td>\n",
              "      <td>No</td>\n",
              "      <td>&gt;= 02</td>\n",
              "      <td>Yes</td>\n",
              "      <td>&lt; 5000</td>\n",
              "      <td>2020</td>\n",
              "      <td>1</td>\n",
              "      <td>60K SAR</td>\n",
              "    </tr>\n",
              "    <tr>\n",
              "      <th>736682</th>\n",
              "      <td>Madinah</td>\n",
              "      <td>Individual</td>\n",
              "      <td>Family</td>\n",
              "      <td>Undefined</td>\n",
              "      <td>24000.0</td>\n",
              "      <td>&lt; 1000</td>\n",
              "      <td>FEMALE</td>\n",
              "      <td>&gt;= 60</td>\n",
              "      <td>Widower</td>\n",
              "      <td>No</td>\n",
              "      <td>&gt;= 02</td>\n",
              "      <td>No</td>\n",
              "      <td>&lt; 5000</td>\n",
              "      <td>2020</td>\n",
              "      <td>1</td>\n",
              "      <td>Under 60K SAR</td>\n",
              "    </tr>\n",
              "  </tbody>\n",
              "</table>\n",
              "<p>736683 rows × 16 columns</p>\n",
              "</div>"
            ],
            "text/plain": [
              "          bank_branch   loan_type  ... Month descriptive_loan_value\n",
              "0             Madinah      Social  ...     1                60K SAR\n",
              "1             Madinah      Social  ...     1                60K SAR\n",
              "2             Madinah      Social  ...     6                60K SAR\n",
              "3             Madinah      Social  ...     6                60K SAR\n",
              "4             Madinah      Social  ...     6                60K SAR\n",
              "...               ...         ...  ...   ...                    ...\n",
              "736678           Hail  Individual  ...     2          Under 60K SAR\n",
              "736679  KhamisMishiat  Individual  ...     1                60K SAR\n",
              "736680         Jeddah  Individual  ...     1                60K SAR\n",
              "736681      AlMajmaah  Individual  ...     1                60K SAR\n",
              "736682        Madinah  Individual  ...     1          Under 60K SAR\n",
              "\n",
              "[736683 rows x 16 columns]"
            ]
          },
          "metadata": {
            "tags": []
          },
          "execution_count": 41
        }
      ]
    },
    {
      "cell_type": "markdown",
      "metadata": {
        "id": "Q1H1fZsMeN19"
      },
      "source": [
        "###Sampling"
      ]
    },
    {
      "cell_type": "markdown",
      "metadata": {
        "id": "AhJe5ggdiJhk"
      },
      "source": [
        "####Sampling years individually"
      ]
    },
    {
      "cell_type": "markdown",
      "metadata": {
        "id": "rpKcywHJeN1_"
      },
      "source": [
        "#####Year 2015"
      ]
    },
    {
      "cell_type": "code",
      "metadata": {
        "id": "79KRgdeTeN1_"
      },
      "source": [
        "# Sampling DF where loan value = 60K\r\n",
        "e60=df[(df.Year==2015)&(df.loan_value==60000)].sample(9000)"
      ],
      "execution_count": 42,
      "outputs": []
    },
    {
      "cell_type": "code",
      "metadata": {
        "id": "b5MYxUP1eN2A"
      },
      "source": [
        "# Sampling DF where loan value > 60K\r\n",
        "o60=df[(df.Year==2015)&(df.loan_value>60000)].sample(200)"
      ],
      "execution_count": 43,
      "outputs": []
    },
    {
      "cell_type": "code",
      "metadata": {
        "id": "jxDrfnUbeN2A"
      },
      "source": [
        "# Sampling DF where loan value < 60K\r\n",
        "u60=df[(df.Year==2015)&(df.loan_value<60000)].sample(800)"
      ],
      "execution_count": 44,
      "outputs": []
    },
    {
      "cell_type": "code",
      "metadata": {
        "colab": {
          "base_uri": "https://localhost:8080/"
        },
        "id": "9vm1H9EVeN2B",
        "outputId": "3e78d1ea-90ec-4452-ee8a-b152f75a252f"
      },
      "source": [
        "# Merging all Samples of year 2015\r\n",
        "frames=[e60,o60,u60]\r\n",
        "Syear2015=pd.concat(frames)\r\n",
        "\r\n",
        "print(\"Dataframes are merged!\")"
      ],
      "execution_count": 45,
      "outputs": [
        {
          "output_type": "stream",
          "text": [
            "Dataframes are merged!\n"
          ],
          "name": "stdout"
        }
      ]
    },
    {
      "cell_type": "markdown",
      "metadata": {
        "id": "BUSo-bZ8g8Jw"
      },
      "source": [
        "#####Year 2016"
      ]
    },
    {
      "cell_type": "code",
      "metadata": {
        "id": "uyqDgNFHg8J1"
      },
      "source": [
        "# Sampling DF where loan value = 60K\r\n",
        "e60=df[(df.Year==2016)&(df.loan_value==60000)].sample(9000)"
      ],
      "execution_count": 46,
      "outputs": []
    },
    {
      "cell_type": "code",
      "metadata": {
        "id": "pHGs6Dlng8J3"
      },
      "source": [
        "# Sampling DF where loan value > 60K\r\n",
        "o60=df[(df.Year==2016)&(df.loan_value>60000)].sample(200)"
      ],
      "execution_count": 47,
      "outputs": []
    },
    {
      "cell_type": "code",
      "metadata": {
        "id": "8IwAhLhdg8J5"
      },
      "source": [
        "# Sampling DF where loan value < 60K\r\n",
        "u60=df[(df.Year==2016)&(df.loan_value<60000)].sample(800)"
      ],
      "execution_count": 48,
      "outputs": []
    },
    {
      "cell_type": "code",
      "metadata": {
        "colab": {
          "base_uri": "https://localhost:8080/"
        },
        "id": "ppXneFxAg8J8",
        "outputId": "3976962a-75b0-48c4-aaa7-ecb11fa6f84d"
      },
      "source": [
        "# Merging all Samples of year 2016\r\n",
        "frames=[e60,o60,u60]\r\n",
        "Syear2016=pd.concat(frames)\r\n",
        "\r\n",
        "print(\"Dataframes are merged!\")"
      ],
      "execution_count": 49,
      "outputs": [
        {
          "output_type": "stream",
          "text": [
            "Dataframes are merged!\n"
          ],
          "name": "stdout"
        }
      ]
    },
    {
      "cell_type": "markdown",
      "metadata": {
        "id": "0apkjU7Ag-PF"
      },
      "source": [
        "#####Year 2017"
      ]
    },
    {
      "cell_type": "code",
      "metadata": {
        "id": "c0gk0Qahg-PG"
      },
      "source": [
        "# Sampling DF where loan value = 60K\r\n",
        "e60=df[(df.Year==2017)&(df.loan_value==60000)].sample(9000)"
      ],
      "execution_count": 50,
      "outputs": []
    },
    {
      "cell_type": "code",
      "metadata": {
        "id": "SX6V2pkcg-PH"
      },
      "source": [
        "# Sampling DF where loan value > 60K\r\n",
        "o60=df[(df.Year==2017)&(df.loan_value>60000)].sample(200)"
      ],
      "execution_count": 51,
      "outputs": []
    },
    {
      "cell_type": "code",
      "metadata": {
        "id": "bm85vUh5g-PI"
      },
      "source": [
        "# Sampling DF where loan value < 60K\r\n",
        "u60=df[(df.Year==2017)&(df.loan_value<60000)].sample(800)"
      ],
      "execution_count": 52,
      "outputs": []
    },
    {
      "cell_type": "code",
      "metadata": {
        "colab": {
          "base_uri": "https://localhost:8080/"
        },
        "id": "R4138GL8g-PI",
        "outputId": "6893edc2-3bdd-413c-fb19-0d76f128e0c3"
      },
      "source": [
        "# Merging all Samples of year 2017\r\n",
        "frames=[e60,o60,u60]\r\n",
        "Syear2017=pd.concat(frames)\r\n",
        "\r\n",
        "print(\"Dataframes are merged!\")"
      ],
      "execution_count": 53,
      "outputs": [
        {
          "output_type": "stream",
          "text": [
            "Dataframes are merged!\n"
          ],
          "name": "stdout"
        }
      ]
    },
    {
      "cell_type": "markdown",
      "metadata": {
        "id": "Vvn94e9Og_VI"
      },
      "source": [
        "#####Year 2018"
      ]
    },
    {
      "cell_type": "code",
      "metadata": {
        "id": "kdGwx35Bg_VM"
      },
      "source": [
        "# Sampling DF where loan value = 60K\r\n",
        "e60=df[(df.Year==2018)&(df.loan_value==60000)].sample(9000)"
      ],
      "execution_count": 54,
      "outputs": []
    },
    {
      "cell_type": "code",
      "metadata": {
        "id": "15z0KbqNg_VR"
      },
      "source": [
        "# Sampling DF where loan value > 60K\r\n",
        "o60=df[(df.Year==2018)&(df.loan_value>60000)].sample(200)"
      ],
      "execution_count": 55,
      "outputs": []
    },
    {
      "cell_type": "code",
      "metadata": {
        "id": "GH9HSx-eg_VT"
      },
      "source": [
        "# Sampling DF where loan value < 60K\r\n",
        "u60=df[(df.Year==2018)&(df.loan_value<60000)].sample(800)"
      ],
      "execution_count": 56,
      "outputs": []
    },
    {
      "cell_type": "code",
      "metadata": {
        "colab": {
          "base_uri": "https://localhost:8080/"
        },
        "id": "nmr5KL6Og_VY",
        "outputId": "23b4b5dd-f9d6-4b84-eca0-bdcb1d3180c6"
      },
      "source": [
        "# Merging all Samples of year 2018\r\n",
        "frames=[e60,o60,u60]\r\n",
        "Syear2018=pd.concat(frames)\r\n",
        "\r\n",
        "print(\"Dataframes are merged!\")"
      ],
      "execution_count": 57,
      "outputs": [
        {
          "output_type": "stream",
          "text": [
            "Dataframes are merged!\n"
          ],
          "name": "stdout"
        }
      ]
    },
    {
      "cell_type": "markdown",
      "metadata": {
        "id": "ZTl6j1XthAQS"
      },
      "source": [
        "#####Year 2019"
      ]
    },
    {
      "cell_type": "code",
      "metadata": {
        "id": "BiAP8gNshAQS"
      },
      "source": [
        "# Sampling DF where loan value = 60K\r\n",
        "e60=df[(df.Year==2019)&(df.loan_value==60000)].sample(9000)"
      ],
      "execution_count": 58,
      "outputs": []
    },
    {
      "cell_type": "code",
      "metadata": {
        "id": "mGobQZD6hAQS"
      },
      "source": [
        "# Sampling DF where loan value > 60K\r\n",
        "o60=df[(df.Year==2019)&(df.loan_value>60000)].sample(200)"
      ],
      "execution_count": 59,
      "outputs": []
    },
    {
      "cell_type": "code",
      "metadata": {
        "id": "rldkKGSjhAQT"
      },
      "source": [
        "# Sampling DF where loan value < 60K\r\n",
        "u60=df[(df.Year==2019)&(df.loan_value<60000)].sample(800)"
      ],
      "execution_count": 60,
      "outputs": []
    },
    {
      "cell_type": "code",
      "metadata": {
        "colab": {
          "base_uri": "https://localhost:8080/"
        },
        "id": "3Hv5Vo4RhAQV",
        "outputId": "7eaa2c3f-6306-459d-afd7-97a72ed32629"
      },
      "source": [
        "# Merging all Samples of year 2019\r\n",
        "frames=[e60,o60,u60]\r\n",
        "Syear2019=pd.concat(frames)\r\n",
        "\r\n",
        "print(\"Dataframes are merged!\")"
      ],
      "execution_count": 61,
      "outputs": [
        {
          "output_type": "stream",
          "text": [
            "Dataframes are merged!\n"
          ],
          "name": "stdout"
        }
      ]
    },
    {
      "cell_type": "markdown",
      "metadata": {
        "id": "3u7cKSG2hBbw"
      },
      "source": [
        "#####Year 2020"
      ]
    },
    {
      "cell_type": "code",
      "metadata": {
        "id": "P_nJSSX0hBbz"
      },
      "source": [
        "# Sampling DF where loan value = 60K\r\n",
        "# e60=df[(df.Year==2020)&(df.loan_value==60000)].sample(9000)['loan_value']"
      ],
      "execution_count": 62,
      "outputs": []
    },
    {
      "cell_type": "code",
      "metadata": {
        "id": "gp9RzEIOhBb0"
      },
      "source": [
        "# Sampling DF where loan value > 60K\r\n",
        "# o60=df[(df.Year==2020)&(df.loan_value>60000)].sample(200)['loan_value']"
      ],
      "execution_count": 63,
      "outputs": []
    },
    {
      "cell_type": "code",
      "metadata": {
        "id": "OfZak9wQhBb1"
      },
      "source": [
        "# Sampling DF where loan value < 60K\r\n",
        "# u60=df[(df.Year==2020)&(df.loan_value<60000)].sample(800)['loan_value']"
      ],
      "execution_count": 64,
      "outputs": []
    },
    {
      "cell_type": "code",
      "metadata": {
        "id": "cT8ZCqPYhBb4"
      },
      "source": [
        "# Merging all Samples of year 2020\r\n",
        "# frames=[e60,o60,u60]\r\n",
        "# Syear2020=pd.concat(frames)\r\n",
        "\r\n",
        "# print(\"Dataframes are merged!\")"
      ],
      "execution_count": 65,
      "outputs": []
    },
    {
      "cell_type": "markdown",
      "metadata": {
        "id": "opssh_g6ie38"
      },
      "source": [
        "####Merging all samples"
      ]
    },
    {
      "cell_type": "code",
      "metadata": {
        "colab": {
          "base_uri": "https://localhost:8080/"
        },
        "id": "xhaBXm2vilNS",
        "outputId": "f6875893-f924-4736-e393-5e3194ca238d"
      },
      "source": [
        "frames=[Syear2015,Syear2016,Syear2017,Syear2018,Syear2019]# Execluding Syear2020 as it will be unseen data. Note: You should delete Syear2020.loan_value later\r\n",
        "dfs=pd.concat(frames)\r\n",
        "print(\"Samples are merged!\")"
      ],
      "execution_count": 66,
      "outputs": [
        {
          "output_type": "stream",
          "text": [
            "Samples are merged!\n"
          ],
          "name": "stdout"
        }
      ]
    },
    {
      "cell_type": "code",
      "metadata": {
        "colab": {
          "base_uri": "https://localhost:8080/",
          "height": 617
        },
        "id": "8yUrNvgZi1Yw",
        "outputId": "56cf781a-7d03-45d9-b6e6-612714fbd9d0"
      },
      "source": [
        "dfs"
      ],
      "execution_count": 67,
      "outputs": [
        {
          "output_type": "execute_result",
          "data": {
            "text/html": [
              "<div>\n",
              "<style scoped>\n",
              "    .dataframe tbody tr th:only-of-type {\n",
              "        vertical-align: middle;\n",
              "    }\n",
              "\n",
              "    .dataframe tbody tr th {\n",
              "        vertical-align: top;\n",
              "    }\n",
              "\n",
              "    .dataframe thead th {\n",
              "        text-align: right;\n",
              "    }\n",
              "</style>\n",
              "<table border=\"1\" class=\"dataframe\">\n",
              "  <thead>\n",
              "    <tr style=\"text-align: right;\">\n",
              "      <th></th>\n",
              "      <th>bank_branch</th>\n",
              "      <th>loan_type</th>\n",
              "      <th>loan_classification</th>\n",
              "      <th>customer_sector</th>\n",
              "      <th>loan_value</th>\n",
              "      <th>installment</th>\n",
              "      <th>gender</th>\n",
              "      <th>age</th>\n",
              "      <th>social_status</th>\n",
              "      <th>special_needs</th>\n",
              "      <th>family_members</th>\n",
              "      <th>saving_loan</th>\n",
              "      <th>income_value</th>\n",
              "      <th>Year</th>\n",
              "      <th>Month</th>\n",
              "      <th>descriptive_loan_value</th>\n",
              "    </tr>\n",
              "  </thead>\n",
              "  <tbody>\n",
              "    <tr>\n",
              "      <th>266671</th>\n",
              "      <td>ALBaha</td>\n",
              "      <td>Social</td>\n",
              "      <td>Family</td>\n",
              "      <td>Govrenment_Employee</td>\n",
              "      <td>60000.0</td>\n",
              "      <td>&lt; 1000</td>\n",
              "      <td>MALE</td>\n",
              "      <td>&gt;= 30</td>\n",
              "      <td>Married</td>\n",
              "      <td>No</td>\n",
              "      <td>&gt;= 05</td>\n",
              "      <td>No</td>\n",
              "      <td>&lt; 5000</td>\n",
              "      <td>2015</td>\n",
              "      <td>9</td>\n",
              "      <td>60K SAR</td>\n",
              "    </tr>\n",
              "    <tr>\n",
              "      <th>70037</th>\n",
              "      <td>AlQunfuthah</td>\n",
              "      <td>Social</td>\n",
              "      <td>Family</td>\n",
              "      <td>Undefined</td>\n",
              "      <td>60000.0</td>\n",
              "      <td>&lt; 1000</td>\n",
              "      <td>FEMALE</td>\n",
              "      <td>&gt;= 40</td>\n",
              "      <td>Divorced</td>\n",
              "      <td>No</td>\n",
              "      <td>&gt;= 02</td>\n",
              "      <td>No</td>\n",
              "      <td>&lt; 5000</td>\n",
              "      <td>2015</td>\n",
              "      <td>1</td>\n",
              "      <td>60K SAR</td>\n",
              "    </tr>\n",
              "    <tr>\n",
              "      <th>122062</th>\n",
              "      <td>ALBaha</td>\n",
              "      <td>Social</td>\n",
              "      <td>Marrage</td>\n",
              "      <td>Govrenment_Employee</td>\n",
              "      <td>60000.0</td>\n",
              "      <td>&gt;= 1000</td>\n",
              "      <td>MALE</td>\n",
              "      <td>&lt; 30</td>\n",
              "      <td>Married</td>\n",
              "      <td>No</td>\n",
              "      <td>&gt;= 10</td>\n",
              "      <td>No</td>\n",
              "      <td>&gt;= 7500</td>\n",
              "      <td>2015</td>\n",
              "      <td>3</td>\n",
              "      <td>60K SAR</td>\n",
              "    </tr>\n",
              "    <tr>\n",
              "      <th>107980</th>\n",
              "      <td>Ryiadh</td>\n",
              "      <td>Social</td>\n",
              "      <td>Family</td>\n",
              "      <td>Undefined</td>\n",
              "      <td>60000.0</td>\n",
              "      <td>&lt; 1000</td>\n",
              "      <td>MALE</td>\n",
              "      <td>&gt;= 60</td>\n",
              "      <td>Married</td>\n",
              "      <td>Yes</td>\n",
              "      <td>&gt;= 05</td>\n",
              "      <td>No</td>\n",
              "      <td>&lt; 5000</td>\n",
              "      <td>2015</td>\n",
              "      <td>3</td>\n",
              "      <td>60K SAR</td>\n",
              "    </tr>\n",
              "    <tr>\n",
              "      <th>126074</th>\n",
              "      <td>Najran</td>\n",
              "      <td>Social</td>\n",
              "      <td>Marrage</td>\n",
              "      <td>Private_Sector_Employee</td>\n",
              "      <td>60000.0</td>\n",
              "      <td>&lt; 1000</td>\n",
              "      <td>MALE</td>\n",
              "      <td>&gt;= 30</td>\n",
              "      <td>Married</td>\n",
              "      <td>No</td>\n",
              "      <td>&gt;= 02</td>\n",
              "      <td>No</td>\n",
              "      <td>&lt; 5000</td>\n",
              "      <td>2015</td>\n",
              "      <td>4</td>\n",
              "      <td>60K SAR</td>\n",
              "    </tr>\n",
              "    <tr>\n",
              "      <th>...</th>\n",
              "      <td>...</td>\n",
              "      <td>...</td>\n",
              "      <td>...</td>\n",
              "      <td>...</td>\n",
              "      <td>...</td>\n",
              "      <td>...</td>\n",
              "      <td>...</td>\n",
              "      <td>...</td>\n",
              "      <td>...</td>\n",
              "      <td>...</td>\n",
              "      <td>...</td>\n",
              "      <td>...</td>\n",
              "      <td>...</td>\n",
              "      <td>...</td>\n",
              "      <td>...</td>\n",
              "      <td>...</td>\n",
              "    </tr>\n",
              "    <tr>\n",
              "      <th>676999</th>\n",
              "      <td>Jeddah</td>\n",
              "      <td>Individual</td>\n",
              "      <td>Private</td>\n",
              "      <td>Undefined</td>\n",
              "      <td>30000.0</td>\n",
              "      <td>&lt; 1000</td>\n",
              "      <td>FEMALE</td>\n",
              "      <td>&gt;= 60</td>\n",
              "      <td>Widower</td>\n",
              "      <td>No</td>\n",
              "      <td>&lt; 02</td>\n",
              "      <td>No</td>\n",
              "      <td>&lt; 5000</td>\n",
              "      <td>2019</td>\n",
              "      <td>6</td>\n",
              "      <td>Under 60K SAR</td>\n",
              "    </tr>\n",
              "    <tr>\n",
              "      <th>695129</th>\n",
              "      <td>Ryiadh</td>\n",
              "      <td>Individual</td>\n",
              "      <td>Marrage</td>\n",
              "      <td>Undefined</td>\n",
              "      <td>18000.0</td>\n",
              "      <td>&lt; 1000</td>\n",
              "      <td>MALE</td>\n",
              "      <td>&gt;= 30</td>\n",
              "      <td>Married</td>\n",
              "      <td>No</td>\n",
              "      <td>&gt;= 02</td>\n",
              "      <td>No</td>\n",
              "      <td>&gt;= 10000</td>\n",
              "      <td>2019</td>\n",
              "      <td>12</td>\n",
              "      <td>Under 60K SAR</td>\n",
              "    </tr>\n",
              "    <tr>\n",
              "      <th>657728</th>\n",
              "      <td>AlDawadmi</td>\n",
              "      <td>Individual</td>\n",
              "      <td>Restoration</td>\n",
              "      <td>Undefined</td>\n",
              "      <td>54000.0</td>\n",
              "      <td>&lt; 1000</td>\n",
              "      <td>FEMALE</td>\n",
              "      <td>&gt;= 60</td>\n",
              "      <td>Widower</td>\n",
              "      <td>Yes</td>\n",
              "      <td>&gt;= 05</td>\n",
              "      <td>No</td>\n",
              "      <td>&lt; 5000</td>\n",
              "      <td>2019</td>\n",
              "      <td>11</td>\n",
              "      <td>Under 60K SAR</td>\n",
              "    </tr>\n",
              "    <tr>\n",
              "      <th>673396</th>\n",
              "      <td>Jazan</td>\n",
              "      <td>Individual</td>\n",
              "      <td>Marrage</td>\n",
              "      <td>Govrenment_Employee</td>\n",
              "      <td>48000.0</td>\n",
              "      <td>&lt; 1000</td>\n",
              "      <td>MALE</td>\n",
              "      <td>&lt; 30</td>\n",
              "      <td>Married</td>\n",
              "      <td>No</td>\n",
              "      <td>&gt;= 02</td>\n",
              "      <td>Yes</td>\n",
              "      <td>&gt;= 7500</td>\n",
              "      <td>2019</td>\n",
              "      <td>10</td>\n",
              "      <td>Under 60K SAR</td>\n",
              "    </tr>\n",
              "    <tr>\n",
              "      <th>655097</th>\n",
              "      <td>Madinah</td>\n",
              "      <td>Individual</td>\n",
              "      <td>Marrage</td>\n",
              "      <td>Undefined</td>\n",
              "      <td>42000.0</td>\n",
              "      <td>&lt; 1000</td>\n",
              "      <td>MALE</td>\n",
              "      <td>&lt; 30</td>\n",
              "      <td>Married</td>\n",
              "      <td>No</td>\n",
              "      <td>&gt;= 02</td>\n",
              "      <td>Yes</td>\n",
              "      <td>&lt; 5000</td>\n",
              "      <td>2019</td>\n",
              "      <td>10</td>\n",
              "      <td>Under 60K SAR</td>\n",
              "    </tr>\n",
              "  </tbody>\n",
              "</table>\n",
              "<p>50000 rows × 16 columns</p>\n",
              "</div>"
            ],
            "text/plain": [
              "        bank_branch   loan_type  ... Month descriptive_loan_value\n",
              "266671       ALBaha      Social  ...     9                60K SAR\n",
              "70037   AlQunfuthah      Social  ...     1                60K SAR\n",
              "122062       ALBaha      Social  ...     3                60K SAR\n",
              "107980       Ryiadh      Social  ...     3                60K SAR\n",
              "126074       Najran      Social  ...     4                60K SAR\n",
              "...             ...         ...  ...   ...                    ...\n",
              "676999       Jeddah  Individual  ...     6          Under 60K SAR\n",
              "695129       Ryiadh  Individual  ...    12          Under 60K SAR\n",
              "657728    AlDawadmi  Individual  ...    11          Under 60K SAR\n",
              "673396        Jazan  Individual  ...    10          Under 60K SAR\n",
              "655097      Madinah  Individual  ...    10          Under 60K SAR\n",
              "\n",
              "[50000 rows x 16 columns]"
            ]
          },
          "metadata": {
            "tags": []
          },
          "execution_count": 67
        }
      ]
    },
    {
      "cell_type": "markdown",
      "metadata": {
        "id": "oGeVXCxmKRHc"
      },
      "source": [
        "####Deleting Loan Value and Installment features as it would cause a data leakage in modeling"
      ]
    },
    {
      "cell_type": "code",
      "metadata": {
        "id": "qxfR5YYhKbsM"
      },
      "source": [
        "del df['loan_value']\r\n",
        "del df['installment']\r\n",
        "del dfs['loan_value']\r\n",
        "del dfs['installment']"
      ],
      "execution_count": 68,
      "outputs": []
    },
    {
      "cell_type": "markdown",
      "metadata": {
        "id": "R2CFfHwwK1uo"
      },
      "source": [
        "Checking the deleted feature"
      ]
    },
    {
      "cell_type": "code",
      "metadata": {
        "colab": {
          "base_uri": "https://localhost:8080/"
        },
        "id": "kavaM8fzK56E",
        "outputId": "b4c9ab25-9ebc-4338-f058-687c51bab394"
      },
      "source": [
        "df.columns"
      ],
      "execution_count": 69,
      "outputs": [
        {
          "output_type": "execute_result",
          "data": {
            "text/plain": [
              "Index(['bank_branch', 'loan_type', 'loan_classification', 'customer_sector',\n",
              "       'gender', 'age', 'social_status', 'special_needs', 'family_members',\n",
              "       'saving_loan', 'income_value', 'Year', 'Month',\n",
              "       'descriptive_loan_value'],\n",
              "      dtype='object')"
            ]
          },
          "metadata": {
            "tags": []
          },
          "execution_count": 69
        }
      ]
    },
    {
      "cell_type": "code",
      "metadata": {
        "colab": {
          "base_uri": "https://localhost:8080/"
        },
        "id": "Veo_O6uMi82b",
        "outputId": "5554a92a-85bf-4b75-db8b-170ac9e236eb"
      },
      "source": [
        "dfs.columns"
      ],
      "execution_count": 70,
      "outputs": [
        {
          "output_type": "execute_result",
          "data": {
            "text/plain": [
              "Index(['bank_branch', 'loan_type', 'loan_classification', 'customer_sector',\n",
              "       'gender', 'age', 'social_status', 'special_needs', 'family_members',\n",
              "       'saving_loan', 'income_value', 'Year', 'Month',\n",
              "       'descriptive_loan_value'],\n",
              "      dtype='object')"
            ]
          },
          "metadata": {
            "tags": []
          },
          "execution_count": 70
        }
      ]
    },
    {
      "cell_type": "code",
      "metadata": {
        "colab": {
          "base_uri": "https://localhost:8080/",
          "height": 617
        },
        "id": "f75jWOnWPKW8",
        "outputId": "a924afac-95e5-45b8-a14c-212c6e4642ab"
      },
      "source": [
        "df"
      ],
      "execution_count": 71,
      "outputs": [
        {
          "output_type": "execute_result",
          "data": {
            "text/html": [
              "<div>\n",
              "<style scoped>\n",
              "    .dataframe tbody tr th:only-of-type {\n",
              "        vertical-align: middle;\n",
              "    }\n",
              "\n",
              "    .dataframe tbody tr th {\n",
              "        vertical-align: top;\n",
              "    }\n",
              "\n",
              "    .dataframe thead th {\n",
              "        text-align: right;\n",
              "    }\n",
              "</style>\n",
              "<table border=\"1\" class=\"dataframe\">\n",
              "  <thead>\n",
              "    <tr style=\"text-align: right;\">\n",
              "      <th></th>\n",
              "      <th>bank_branch</th>\n",
              "      <th>loan_type</th>\n",
              "      <th>loan_classification</th>\n",
              "      <th>customer_sector</th>\n",
              "      <th>gender</th>\n",
              "      <th>age</th>\n",
              "      <th>social_status</th>\n",
              "      <th>special_needs</th>\n",
              "      <th>family_members</th>\n",
              "      <th>saving_loan</th>\n",
              "      <th>income_value</th>\n",
              "      <th>Year</th>\n",
              "      <th>Month</th>\n",
              "      <th>descriptive_loan_value</th>\n",
              "    </tr>\n",
              "  </thead>\n",
              "  <tbody>\n",
              "    <tr>\n",
              "      <th>0</th>\n",
              "      <td>Madinah</td>\n",
              "      <td>Social</td>\n",
              "      <td>Marrage</td>\n",
              "      <td>Govrenmental_Company_Employee</td>\n",
              "      <td>MALE</td>\n",
              "      <td>&gt;= 30</td>\n",
              "      <td>Married</td>\n",
              "      <td>No</td>\n",
              "      <td>&gt;= 02</td>\n",
              "      <td>No</td>\n",
              "      <td>&gt;= 5000</td>\n",
              "      <td>2015</td>\n",
              "      <td>1</td>\n",
              "      <td>60K SAR</td>\n",
              "    </tr>\n",
              "    <tr>\n",
              "      <th>1</th>\n",
              "      <td>Madinah</td>\n",
              "      <td>Social</td>\n",
              "      <td>Marrage</td>\n",
              "      <td>Govrenment_Employee</td>\n",
              "      <td>MALE</td>\n",
              "      <td>&gt;= 30</td>\n",
              "      <td>Married</td>\n",
              "      <td>Yes</td>\n",
              "      <td>&gt;= 02</td>\n",
              "      <td>No</td>\n",
              "      <td>&gt;= 5000</td>\n",
              "      <td>2015</td>\n",
              "      <td>1</td>\n",
              "      <td>60K SAR</td>\n",
              "    </tr>\n",
              "    <tr>\n",
              "      <th>2</th>\n",
              "      <td>Madinah</td>\n",
              "      <td>Social</td>\n",
              "      <td>Marrage</td>\n",
              "      <td>Govrenment_Employee</td>\n",
              "      <td>MALE</td>\n",
              "      <td>&lt; 30</td>\n",
              "      <td>Married</td>\n",
              "      <td>No</td>\n",
              "      <td>&gt;= 02</td>\n",
              "      <td>No</td>\n",
              "      <td>&lt; 5000</td>\n",
              "      <td>2015</td>\n",
              "      <td>6</td>\n",
              "      <td>60K SAR</td>\n",
              "    </tr>\n",
              "    <tr>\n",
              "      <th>3</th>\n",
              "      <td>Madinah</td>\n",
              "      <td>Social</td>\n",
              "      <td>Marrage</td>\n",
              "      <td>Govrenment_Employee</td>\n",
              "      <td>MALE</td>\n",
              "      <td>&lt; 30</td>\n",
              "      <td>Married</td>\n",
              "      <td>No</td>\n",
              "      <td>&gt;= 02</td>\n",
              "      <td>No</td>\n",
              "      <td>&gt;= 10000</td>\n",
              "      <td>2015</td>\n",
              "      <td>6</td>\n",
              "      <td>60K SAR</td>\n",
              "    </tr>\n",
              "    <tr>\n",
              "      <th>4</th>\n",
              "      <td>Madinah</td>\n",
              "      <td>Social</td>\n",
              "      <td>Family</td>\n",
              "      <td>Undefined</td>\n",
              "      <td>FEMALE</td>\n",
              "      <td>&gt;= 40</td>\n",
              "      <td>Widower</td>\n",
              "      <td>No</td>\n",
              "      <td>&gt;= 05</td>\n",
              "      <td>No</td>\n",
              "      <td>&lt; 5000</td>\n",
              "      <td>2015</td>\n",
              "      <td>6</td>\n",
              "      <td>60K SAR</td>\n",
              "    </tr>\n",
              "    <tr>\n",
              "      <th>...</th>\n",
              "      <td>...</td>\n",
              "      <td>...</td>\n",
              "      <td>...</td>\n",
              "      <td>...</td>\n",
              "      <td>...</td>\n",
              "      <td>...</td>\n",
              "      <td>...</td>\n",
              "      <td>...</td>\n",
              "      <td>...</td>\n",
              "      <td>...</td>\n",
              "      <td>...</td>\n",
              "      <td>...</td>\n",
              "      <td>...</td>\n",
              "      <td>...</td>\n",
              "    </tr>\n",
              "    <tr>\n",
              "      <th>736678</th>\n",
              "      <td>Hail</td>\n",
              "      <td>Individual</td>\n",
              "      <td>Private</td>\n",
              "      <td>Undefined</td>\n",
              "      <td>FEMALE</td>\n",
              "      <td>&lt; 30</td>\n",
              "      <td>Divorced</td>\n",
              "      <td>No</td>\n",
              "      <td>&lt; 02</td>\n",
              "      <td>No</td>\n",
              "      <td>&lt; 5000</td>\n",
              "      <td>2020</td>\n",
              "      <td>2</td>\n",
              "      <td>Under 60K SAR</td>\n",
              "    </tr>\n",
              "    <tr>\n",
              "      <th>736679</th>\n",
              "      <td>KhamisMishiat</td>\n",
              "      <td>Individual</td>\n",
              "      <td>Marrage</td>\n",
              "      <td>Undefined</td>\n",
              "      <td>MALE</td>\n",
              "      <td>&lt; 30</td>\n",
              "      <td>Married</td>\n",
              "      <td>No</td>\n",
              "      <td>&gt;= 02</td>\n",
              "      <td>No</td>\n",
              "      <td>&lt; 5000</td>\n",
              "      <td>2020</td>\n",
              "      <td>1</td>\n",
              "      <td>60K SAR</td>\n",
              "    </tr>\n",
              "    <tr>\n",
              "      <th>736680</th>\n",
              "      <td>Jeddah</td>\n",
              "      <td>Individual</td>\n",
              "      <td>Marrage</td>\n",
              "      <td>Govrenment_Employee</td>\n",
              "      <td>MALE</td>\n",
              "      <td>&lt; 30</td>\n",
              "      <td>Married</td>\n",
              "      <td>No</td>\n",
              "      <td>&gt;= 02</td>\n",
              "      <td>No</td>\n",
              "      <td>&gt;= 10000</td>\n",
              "      <td>2020</td>\n",
              "      <td>1</td>\n",
              "      <td>60K SAR</td>\n",
              "    </tr>\n",
              "    <tr>\n",
              "      <th>736681</th>\n",
              "      <td>AlMajmaah</td>\n",
              "      <td>Individual</td>\n",
              "      <td>Marrage</td>\n",
              "      <td>Undefined</td>\n",
              "      <td>MALE</td>\n",
              "      <td>&gt;= 30</td>\n",
              "      <td>Married</td>\n",
              "      <td>No</td>\n",
              "      <td>&gt;= 02</td>\n",
              "      <td>Yes</td>\n",
              "      <td>&lt; 5000</td>\n",
              "      <td>2020</td>\n",
              "      <td>1</td>\n",
              "      <td>60K SAR</td>\n",
              "    </tr>\n",
              "    <tr>\n",
              "      <th>736682</th>\n",
              "      <td>Madinah</td>\n",
              "      <td>Individual</td>\n",
              "      <td>Family</td>\n",
              "      <td>Undefined</td>\n",
              "      <td>FEMALE</td>\n",
              "      <td>&gt;= 60</td>\n",
              "      <td>Widower</td>\n",
              "      <td>No</td>\n",
              "      <td>&gt;= 02</td>\n",
              "      <td>No</td>\n",
              "      <td>&lt; 5000</td>\n",
              "      <td>2020</td>\n",
              "      <td>1</td>\n",
              "      <td>Under 60K SAR</td>\n",
              "    </tr>\n",
              "  </tbody>\n",
              "</table>\n",
              "<p>736683 rows × 14 columns</p>\n",
              "</div>"
            ],
            "text/plain": [
              "          bank_branch   loan_type  ... Month descriptive_loan_value\n",
              "0             Madinah      Social  ...     1                60K SAR\n",
              "1             Madinah      Social  ...     1                60K SAR\n",
              "2             Madinah      Social  ...     6                60K SAR\n",
              "3             Madinah      Social  ...     6                60K SAR\n",
              "4             Madinah      Social  ...     6                60K SAR\n",
              "...               ...         ...  ...   ...                    ...\n",
              "736678           Hail  Individual  ...     2          Under 60K SAR\n",
              "736679  KhamisMishiat  Individual  ...     1                60K SAR\n",
              "736680         Jeddah  Individual  ...     1                60K SAR\n",
              "736681      AlMajmaah  Individual  ...     1                60K SAR\n",
              "736682        Madinah  Individual  ...     1          Under 60K SAR\n",
              "\n",
              "[736683 rows x 14 columns]"
            ]
          },
          "metadata": {
            "tags": []
          },
          "execution_count": 71
        }
      ]
    },
    {
      "cell_type": "markdown",
      "metadata": {
        "id": "T3rXWgN_BaYx"
      },
      "source": [
        "###Spliting & Encoding Data"
      ]
    },
    {
      "cell_type": "markdown",
      "metadata": {
        "id": "HGFvyGknjNIv"
      },
      "source": [
        "####Spliting & Encoding Sample Data"
      ]
    },
    {
      "cell_type": "code",
      "metadata": {
        "colab": {
          "base_uri": "https://localhost:8080/"
        },
        "id": "OTNdDzRnTx9Y",
        "outputId": "9f9509e1-163b-4312-f37f-6ea24323d4b2"
      },
      "source": [
        "pip install category_encoders"
      ],
      "execution_count": 72,
      "outputs": [
        {
          "output_type": "stream",
          "text": [
            "Requirement already satisfied: category_encoders in /usr/local/lib/python3.7/dist-packages (2.2.2)\n",
            "Requirement already satisfied: scikit-learn>=0.20.0 in /usr/local/lib/python3.7/dist-packages (from category_encoders) (0.22.2.post1)\n",
            "Requirement already satisfied: patsy>=0.5.1 in /usr/local/lib/python3.7/dist-packages (from category_encoders) (0.5.1)\n",
            "Requirement already satisfied: scipy>=1.0.0 in /usr/local/lib/python3.7/dist-packages (from category_encoders) (1.4.1)\n",
            "Requirement already satisfied: numpy>=1.14.0 in /usr/local/lib/python3.7/dist-packages (from category_encoders) (1.19.5)\n",
            "Requirement already satisfied: pandas>=0.21.1 in /usr/local/lib/python3.7/dist-packages (from category_encoders) (1.1.5)\n",
            "Requirement already satisfied: statsmodels>=0.9.0 in /usr/local/lib/python3.7/dist-packages (from category_encoders) (0.10.2)\n",
            "Requirement already satisfied: joblib>=0.11 in /usr/local/lib/python3.7/dist-packages (from scikit-learn>=0.20.0->category_encoders) (1.0.1)\n",
            "Requirement already satisfied: six in /usr/local/lib/python3.7/dist-packages (from patsy>=0.5.1->category_encoders) (1.15.0)\n",
            "Requirement already satisfied: python-dateutil>=2.7.3 in /usr/local/lib/python3.7/dist-packages (from pandas>=0.21.1->category_encoders) (2.8.1)\n",
            "Requirement already satisfied: pytz>=2017.2 in /usr/local/lib/python3.7/dist-packages (from pandas>=0.21.1->category_encoders) (2018.9)\n"
          ],
          "name": "stdout"
        }
      ]
    },
    {
      "cell_type": "code",
      "metadata": {
        "id": "KqsHNg9t5FzQ",
        "colab": {
          "base_uri": "https://localhost:8080/"
        },
        "outputId": "59a15c4e-298c-4896-b118-02ce8664fe33"
      },
      "source": [
        "\r\n",
        "dfstrain=pd.DataFrame(dfs[(dfs['Year']<2019)])\r\n",
        "dfstest=pd.DataFrame(dfs[(dfs['Year']==2019) ])\r\n",
        "\r\n",
        "col=['descriptive_loan_value']\r\n",
        "\r\n",
        "X_train=dfstrain.drop(columns=col)\r\n",
        "y_train=dfstrain.descriptive_loan_value\r\n",
        "\r\n",
        "X_test=dfstest.drop(columns=col)\r\n",
        "y_test=dfstest.descriptive_loan_value\r\n",
        "\r\n",
        "#Encoding the data\r\n",
        "\r\n",
        "import category_encoders as ce\r\n",
        "\r\n",
        "# Ordinally Encoded  \r\n",
        "encoder = ce.OrdinalEncoder()\r\n",
        "X_train = encoder.fit_transform(X_train)\r\n",
        "X_test=encoder.transform(X_test)\r\n",
        "\r\n",
        "\r\n",
        "\r\n",
        "# X_train=pd.get_dummies(X_train)\r\n",
        "# X_test=pd.get_dummies(X_test)"
      ],
      "execution_count": 73,
      "outputs": [
        {
          "output_type": "stream",
          "text": [
            "/usr/local/lib/python3.7/dist-packages/statsmodels/tools/_testing.py:19: FutureWarning: pandas.util.testing is deprecated. Use the functions in the public API at pandas.testing instead.\n",
            "  import pandas.util.testing as tm\n"
          ],
          "name": "stderr"
        }
      ]
    },
    {
      "cell_type": "code",
      "metadata": {
        "colab": {
          "base_uri": "https://localhost:8080/"
        },
        "id": "_df9EvzPVdYe",
        "outputId": "88c031af-83d7-419f-9e84-74f16dee0c2b"
      },
      "source": [
        "dfstrain.columns"
      ],
      "execution_count": 74,
      "outputs": [
        {
          "output_type": "execute_result",
          "data": {
            "text/plain": [
              "Index(['bank_branch', 'loan_type', 'loan_classification', 'customer_sector',\n",
              "       'gender', 'age', 'social_status', 'special_needs', 'family_members',\n",
              "       'saving_loan', 'income_value', 'Year', 'Month',\n",
              "       'descriptive_loan_value'],\n",
              "      dtype='object')"
            ]
          },
          "metadata": {
            "tags": []
          },
          "execution_count": 74
        }
      ]
    },
    {
      "cell_type": "markdown",
      "metadata": {
        "id": "XR8A-YRrjUuE"
      },
      "source": [
        "#### Spliting & Encoding The Main Data Excluding Year 2020 (This is a latest step which will be taken after getting the right model using the sample data)"
      ]
    },
    {
      "cell_type": "code",
      "metadata": {
        "id": "BoMx3lPPjrpi"
      },
      "source": [
        "dftrain=pd.DataFrame(df[(df['Year']<2019)])\r\n",
        "dftest=pd.DataFrame(df[(df['Year']==2019)])# | (df['Year']==2020)\r\n",
        "\r\n",
        "col=['descriptive_loan_value']\r\n",
        "\r\n",
        "X_trainM=dftrain.drop(columns=col)\r\n",
        "y_trainM=dftrain.descriptive_loan_value\r\n",
        "\r\n",
        "X_testM=dftest.drop(columns=col)\r\n",
        "y_testM=dftest.descriptive_loan_value\r\n",
        "\r\n",
        "#Encoding the data\r\n",
        "\r\n",
        "# import category_encoders as ce\r\n",
        "\r\n",
        "# Ordinally Encoded  \r\n",
        "encoderM = ce.OrdinalEncoder()\r\n",
        "X_trainM = encoderM.fit_transform(X_trainM)\r\n",
        "X_testM=encoderM.transform(X_testM)\r\n",
        "\r\n",
        "\r\n",
        "\r\n",
        "# X_train=pd.get_dummies(X_train)\r\n",
        "# X_test=pd.get_dummies(X_test)"
      ],
      "execution_count": 75,
      "outputs": []
    },
    {
      "cell_type": "markdown",
      "metadata": {
        "id": "s24SEyfZW48L"
      },
      "source": [
        "#### Spliting & Encoding The Main Data Including Year 2020"
      ]
    },
    {
      "cell_type": "code",
      "metadata": {
        "id": "Ayzv37zIW48X"
      },
      "source": [
        "dftrainAll=pd.DataFrame(df[(df['Year']<2020)])\r\n",
        "dftestAll=pd.DataFrame(df[(df['Year']==2020)])\r\n",
        "\r\n",
        "col=['descriptive_loan_value']\r\n",
        "\r\n",
        "X_trainAll=dftrainAll.drop(columns=col)\r\n",
        "y_trainAll=dftrainAll.descriptive_loan_value\r\n",
        "\r\n",
        "X_testAll=dftestAll.drop(columns=col)\r\n",
        "y_testAll=dftestAll.descriptive_loan_value\r\n",
        "\r\n",
        "#Encoding the data\r\n",
        "\r\n",
        "# import category_encoders as ce\r\n",
        "\r\n",
        "# Ordinally Encoded  \r\n",
        "encoderAll = ce.OrdinalEncoder()\r\n",
        "X_trainAll = encoderAll.fit_transform(X_trainAll)\r\n",
        "X_testAll=encoderAll.transform(X_testAll)\r\n",
        "\r\n",
        "\r\n",
        "\r\n",
        "# X_train=pd.get_dummies(X_train)\r\n",
        "# X_test=pd.get_dummies(X_test)"
      ],
      "execution_count": 76,
      "outputs": []
    },
    {
      "cell_type": "code",
      "metadata": {
        "colab": {
          "base_uri": "https://localhost:8080/"
        },
        "id": "CGdnD5YPP9h0",
        "outputId": "718e7e1b-d9a4-430d-d0d9-d64c5b65fba4"
      },
      "source": [
        "dftestAll.descriptive_loan_value.value_counts()"
      ],
      "execution_count": 77,
      "outputs": [
        {
          "output_type": "execute_result",
          "data": {
            "text/plain": [
              "60K SAR          8273\n",
              "Under 60K SAR    4380\n",
              "Over 60K SAR     1255\n",
              "Name: descriptive_loan_value, dtype: int64"
            ]
          },
          "metadata": {
            "tags": []
          },
          "execution_count": 77
        }
      ]
    },
    {
      "cell_type": "code",
      "metadata": {
        "colab": {
          "base_uri": "https://localhost:8080/"
        },
        "id": "TbOTuUmPQK4F",
        "outputId": "a807cf75-9bfc-417e-ae12-d34ff2a9699c"
      },
      "source": [
        "dftestAll.shape"
      ],
      "execution_count": 78,
      "outputs": [
        {
          "output_type": "execute_result",
          "data": {
            "text/plain": [
              "(13908, 14)"
            ]
          },
          "metadata": {
            "tags": []
          },
          "execution_count": 78
        }
      ]
    },
    {
      "cell_type": "markdown",
      "metadata": {
        "id": "s0olKolb3x0Q"
      },
      "source": [
        "##Modeling"
      ]
    },
    {
      "cell_type": "markdown",
      "metadata": {
        "id": "N8BFDUVV-m9V"
      },
      "source": [
        "####Baseline"
      ]
    },
    {
      "cell_type": "markdown",
      "metadata": {
        "id": "US8n3XDT-m90"
      },
      "source": [
        "#####Creating the model"
      ]
    },
    {
      "cell_type": "code",
      "metadata": {
        "colab": {
          "base_uri": "https://localhost:8080/"
        },
        "id": "tRa8dJFZ-m91",
        "outputId": "9aff389f-a4a8-40a3-d97e-8a68d2dbb3f6"
      },
      "source": [
        "y_train.value_counts(normalize=True)[0]"
      ],
      "execution_count": 79,
      "outputs": [
        {
          "output_type": "execute_result",
          "data": {
            "text/plain": [
              "0.9"
            ]
          },
          "metadata": {
            "tags": []
          },
          "execution_count": 79
        }
      ]
    },
    {
      "cell_type": "markdown",
      "metadata": {
        "id": "VDW2MY0h1m0c"
      },
      "source": [
        "####Logistic Regression Model"
      ]
    },
    {
      "cell_type": "markdown",
      "metadata": {
        "id": "iuaH1PSs11zB"
      },
      "source": [
        "#####Creating the model"
      ]
    },
    {
      "cell_type": "code",
      "metadata": {
        "id": "R-R_r6Wu52oI"
      },
      "source": [
        "\r\n",
        "lr=LogisticRegression(fit_intercept=True,\r\n",
        "                      max_iter=10000)\r\n"
      ],
      "execution_count": 80,
      "outputs": []
    },
    {
      "cell_type": "code",
      "metadata": {
        "colab": {
          "base_uri": "https://localhost:8080/"
        },
        "id": "NfQfLBCD52lh",
        "outputId": "64d05a1c-233e-4e74-f23f-eecec1c12f8c"
      },
      "source": [
        "%time\r\n",
        "lr.fit(X_train, y_train)\r\n"
      ],
      "execution_count": 81,
      "outputs": [
        {
          "output_type": "stream",
          "text": [
            "CPU times: user 4 µs, sys: 0 ns, total: 4 µs\n",
            "Wall time: 7.15 µs\n"
          ],
          "name": "stdout"
        },
        {
          "output_type": "execute_result",
          "data": {
            "text/plain": [
              "LogisticRegression(C=1.0, class_weight=None, dual=False, fit_intercept=True,\n",
              "                   intercept_scaling=1, l1_ratio=None, max_iter=10000,\n",
              "                   multi_class='auto', n_jobs=None, penalty='l2',\n",
              "                   random_state=None, solver='lbfgs', tol=0.0001, verbose=0,\n",
              "                   warm_start=False)"
            ]
          },
          "metadata": {
            "tags": []
          },
          "execution_count": 81
        }
      ]
    },
    {
      "cell_type": "code",
      "metadata": {
        "id": "oYPlzbOb52i8"
      },
      "source": [
        "pred=lr.predict(X_test)"
      ],
      "execution_count": 82,
      "outputs": []
    },
    {
      "cell_type": "markdown",
      "metadata": {
        "id": "nazOges31-iR"
      },
      "source": [
        "#####Evaluating the model"
      ]
    },
    {
      "cell_type": "code",
      "metadata": {
        "colab": {
          "base_uri": "https://localhost:8080/"
        },
        "id": "LR2KldvP52dh",
        "outputId": "39c5e111-c390-4efc-8ac3-ddef55aa38a2"
      },
      "source": [
        "accuracy_score(y_test,pred)"
      ],
      "execution_count": 83,
      "outputs": [
        {
          "output_type": "execute_result",
          "data": {
            "text/plain": [
              "0.926"
            ]
          },
          "metadata": {
            "tags": []
          },
          "execution_count": 83
        }
      ]
    },
    {
      "cell_type": "code",
      "metadata": {
        "colab": {
          "base_uri": "https://localhost:8080/",
          "height": 75
        },
        "id": "ZWqZb2Ul6oL_",
        "outputId": "39c6da2c-fead-4aee-a0cd-2d85162a9051"
      },
      "source": [
        "classification_report(y_test,pred)"
      ],
      "execution_count": 84,
      "outputs": [
        {
          "output_type": "execute_result",
          "data": {
            "application/vnd.google.colaboratory.intrinsic+json": {
              "type": "string"
            },
            "text/plain": [
              "'               precision    recall  f1-score   support\\n\\n      60K SAR       0.95      0.99      0.97      9000\\n Over 60K SAR       1.00      0.01      0.01       200\\nUnder 60K SAR       0.55      0.44      0.49       800\\n\\n     accuracy                           0.93     10000\\n    macro avg       0.83      0.48      0.49     10000\\n weighted avg       0.92      0.93      0.91     10000\\n'"
            ]
          },
          "metadata": {
            "tags": []
          },
          "execution_count": 84
        }
      ]
    },
    {
      "cell_type": "markdown",
      "metadata": {
        "id": "dTYIG8dGsFJo"
      },
      "source": [
        "#####Model Optimization"
      ]
    },
    {
      "cell_type": "markdown",
      "metadata": {
        "id": "84OHlfCcsRUg"
      },
      "source": [
        "######GridSearch"
      ]
    },
    {
      "cell_type": "code",
      "metadata": {
        "id": "nK0XijaVsKJ3"
      },
      "source": [
        "# param_grid = {\r\n",
        "#     'fit_intercept': [True,False],\r\n",
        "#     'penalty': ['l1', 'l2'],\r\n",
        "#     'C': np.logspace(-4, 4, 20),\r\n",
        "#     'max_iter':[1000,10000]}\r\n",
        "    \r\n",
        "\r\n",
        "# grid = GridSearchCV(lr, param_grid = param_grid, cv = 5, n_jobs=-1)"
      ],
      "execution_count": 85,
      "outputs": []
    },
    {
      "cell_type": "code",
      "metadata": {
        "id": "3-eiarn8wETa"
      },
      "source": [
        "# grid.fit(X_train, y_train)"
      ],
      "execution_count": 86,
      "outputs": []
    },
    {
      "cell_type": "code",
      "metadata": {
        "id": "OocPdMj3wGsq"
      },
      "source": [
        "# grid.best_params_"
      ],
      "execution_count": 87,
      "outputs": []
    },
    {
      "cell_type": "markdown",
      "metadata": {
        "id": "tivnfzfPDBXJ"
      },
      "source": [
        "Optimized Model"
      ]
    },
    {
      "cell_type": "code",
      "metadata": {
        "id": "qczYd066C61o"
      },
      "source": [
        "lr=LogisticRegression(fit_intercept=False,\r\n",
        "                      max_iter=10000,\r\n",
        "                      C=29.763514416313132,\r\n",
        "                      penalty= 'l2')\r\n"
      ],
      "execution_count": 88,
      "outputs": []
    },
    {
      "cell_type": "code",
      "metadata": {
        "colab": {
          "base_uri": "https://localhost:8080/"
        },
        "id": "N5VMM3PfDe0U",
        "outputId": "9c515c11-2439-48d2-9c0e-114f9591a67d"
      },
      "source": [
        "lr.fit(X_train, y_train)"
      ],
      "execution_count": 89,
      "outputs": [
        {
          "output_type": "execute_result",
          "data": {
            "text/plain": [
              "LogisticRegression(C=29.763514416313132, class_weight=None, dual=False,\n",
              "                   fit_intercept=False, intercept_scaling=1, l1_ratio=None,\n",
              "                   max_iter=10000, multi_class='auto', n_jobs=None,\n",
              "                   penalty='l2', random_state=None, solver='lbfgs', tol=0.0001,\n",
              "                   verbose=0, warm_start=False)"
            ]
          },
          "metadata": {
            "tags": []
          },
          "execution_count": 89
        }
      ]
    },
    {
      "cell_type": "code",
      "metadata": {
        "id": "yFtZQ7-RDh1T"
      },
      "source": [
        "pred=lr.predict(X_test)"
      ],
      "execution_count": 90,
      "outputs": []
    },
    {
      "cell_type": "code",
      "metadata": {
        "colab": {
          "base_uri": "https://localhost:8080/"
        },
        "id": "a5IGrVPXDphe",
        "outputId": "dbb631dc-48dc-4d48-e1e1-f15ef20b340e"
      },
      "source": [
        "accuracy_score(y_test,pred)"
      ],
      "execution_count": 91,
      "outputs": [
        {
          "output_type": "execute_result",
          "data": {
            "text/plain": [
              "0.9247"
            ]
          },
          "metadata": {
            "tags": []
          },
          "execution_count": 91
        }
      ]
    },
    {
      "cell_type": "markdown",
      "metadata": {
        "id": "E7lLLTrp21Oa"
      },
      "source": [
        "####Random Forest Model"
      ]
    },
    {
      "cell_type": "markdown",
      "metadata": {
        "id": "yyftd2qX6Jv_"
      },
      "source": [
        "#####Creating the model"
      ]
    },
    {
      "cell_type": "code",
      "metadata": {
        "id": "nZG8n8Dl6JwL"
      },
      "source": [
        "\r\n",
        "rf = RandomForestClassifier()\r\n"
      ],
      "execution_count": 92,
      "outputs": []
    },
    {
      "cell_type": "code",
      "metadata": {
        "colab": {
          "base_uri": "https://localhost:8080/"
        },
        "id": "ufJj5NFE6JwP",
        "outputId": "f06321e4-e922-42f3-a665-780747857a43"
      },
      "source": [
        "\r\n",
        "rf.fit(X_train, y_train)\r\n"
      ],
      "execution_count": 93,
      "outputs": [
        {
          "output_type": "execute_result",
          "data": {
            "text/plain": [
              "RandomForestClassifier(bootstrap=True, ccp_alpha=0.0, class_weight=None,\n",
              "                       criterion='gini', max_depth=None, max_features='auto',\n",
              "                       max_leaf_nodes=None, max_samples=None,\n",
              "                       min_impurity_decrease=0.0, min_impurity_split=None,\n",
              "                       min_samples_leaf=1, min_samples_split=2,\n",
              "                       min_weight_fraction_leaf=0.0, n_estimators=100,\n",
              "                       n_jobs=None, oob_score=False, random_state=None,\n",
              "                       verbose=0, warm_start=False)"
            ]
          },
          "metadata": {
            "tags": []
          },
          "execution_count": 93
        }
      ]
    },
    {
      "cell_type": "code",
      "metadata": {
        "id": "XlmHPR6M6JwX"
      },
      "source": [
        "predrf=rf.predict(X_test)"
      ],
      "execution_count": 94,
      "outputs": []
    },
    {
      "cell_type": "code",
      "metadata": {
        "colab": {
          "base_uri": "https://localhost:8080/"
        },
        "id": "55gnzmQcTLQY",
        "outputId": "8eeb2ba4-4310-433c-fd7b-3f71d1c8ed08"
      },
      "source": [
        "rf.feature_importances_"
      ],
      "execution_count": 95,
      "outputs": [
        {
          "output_type": "execute_result",
          "data": {
            "text/plain": [
              "array([0.20446967, 0.09619114, 0.22063388, 0.04051858, 0.01228565,\n",
              "       0.04022859, 0.03871352, 0.01016351, 0.07367776, 0.00064489,\n",
              "       0.0515947 , 0.07256037, 0.13831775])"
            ]
          },
          "metadata": {
            "tags": []
          },
          "execution_count": 95
        }
      ]
    },
    {
      "cell_type": "code",
      "metadata": {
        "colab": {
          "base_uri": "https://localhost:8080/"
        },
        "id": "aoQLh0ATTS-I",
        "outputId": "d9c94527-5343-4f46-eb5d-e6c01958cb27"
      },
      "source": [
        "X_train.columns"
      ],
      "execution_count": 96,
      "outputs": [
        {
          "output_type": "execute_result",
          "data": {
            "text/plain": [
              "Index(['bank_branch', 'loan_type', 'loan_classification', 'customer_sector',\n",
              "       'gender', 'age', 'social_status', 'special_needs', 'family_members',\n",
              "       'saving_loan', 'income_value', 'Year', 'Month'],\n",
              "      dtype='object')"
            ]
          },
          "metadata": {
            "tags": []
          },
          "execution_count": 96
        }
      ]
    },
    {
      "cell_type": "markdown",
      "metadata": {
        "id": "wUkUAoRK6N6M"
      },
      "source": [
        "#####Evaluating the model"
      ]
    },
    {
      "cell_type": "code",
      "metadata": {
        "colab": {
          "base_uri": "https://localhost:8080/"
        },
        "id": "pfEwD6J26N6O",
        "outputId": "f4d5fc41-bb74-4cf2-e48e-6372424daf6d"
      },
      "source": [
        "accuracy_score(y_test,predrf)"
      ],
      "execution_count": 97,
      "outputs": [
        {
          "output_type": "execute_result",
          "data": {
            "text/plain": [
              "0.9283"
            ]
          },
          "metadata": {
            "tags": []
          },
          "execution_count": 97
        }
      ]
    },
    {
      "cell_type": "code",
      "metadata": {
        "colab": {
          "base_uri": "https://localhost:8080/",
          "height": 75
        },
        "id": "g_IE3aa06N6T",
        "outputId": "de6023eb-6858-4fd8-d714-f60f24794150"
      },
      "source": [
        "classification_report(y_test,predrf)"
      ],
      "execution_count": 98,
      "outputs": [
        {
          "output_type": "execute_result",
          "data": {
            "application/vnd.google.colaboratory.intrinsic+json": {
              "type": "string"
            },
            "text/plain": [
              "'               precision    recall  f1-score   support\\n\\n      60K SAR       0.94      0.99      0.97      9000\\n Over 60K SAR       1.00      0.23      0.37       200\\nUnder 60K SAR       0.63      0.42      0.50       800\\n\\n     accuracy                           0.93     10000\\n    macro avg       0.86      0.55      0.62     10000\\n weighted avg       0.92      0.93      0.92     10000\\n'"
            ]
          },
          "metadata": {
            "tags": []
          },
          "execution_count": 98
        }
      ]
    },
    {
      "cell_type": "markdown",
      "metadata": {
        "id": "g84Nj8HBshEw"
      },
      "source": [
        "#####Model Optimization"
      ]
    },
    {
      "cell_type": "markdown",
      "metadata": {
        "id": "_7r2PsmFshE2"
      },
      "source": [
        "######GridSearch"
      ]
    },
    {
      "cell_type": "code",
      "metadata": {
        "id": "UYpA-EiwshE3"
      },
      "source": [
        "# param_gridrf = {\r\n",
        "#     'n_estimators' : list(range(100,300,10)),\r\n",
        "#     'warm_start' : [False, True],\r\n",
        "#     'random_state':list(range(10,51,10))\r\n",
        "    \r\n",
        "    \r\n",
        "#     }\r\n",
        "\r\n",
        "# gridrf = GridSearchCV(rf, param_grid = param_gridrf, cv = 5, n_jobs=-1)"
      ],
      "execution_count": 99,
      "outputs": []
    },
    {
      "cell_type": "code",
      "metadata": {
        "id": "niweCyb7GVtd"
      },
      "source": [
        "# gridrf.fit(X_train, y_train)"
      ],
      "execution_count": 100,
      "outputs": []
    },
    {
      "cell_type": "code",
      "metadata": {
        "id": "7PQKQ2VoGVI3"
      },
      "source": [
        "# gridrf.best_params_"
      ],
      "execution_count": 101,
      "outputs": []
    },
    {
      "cell_type": "code",
      "metadata": {
        "id": "ySrG8JVj_Kpv"
      },
      "source": [
        "# best=gridrf.best_params_\r\n",
        "# print(best)"
      ],
      "execution_count": 102,
      "outputs": []
    },
    {
      "cell_type": "markdown",
      "metadata": {
        "id": "Uwgtr67rIQ7N"
      },
      "source": [
        "Optimized Model"
      ]
    },
    {
      "cell_type": "code",
      "metadata": {
        "id": "d5ztxWDOGU-S"
      },
      "source": [
        "rf = RandomForestClassifier(n_estimators= 160, warm_start= False,random_state=300)"
      ],
      "execution_count": 103,
      "outputs": []
    },
    {
      "cell_type": "code",
      "metadata": {
        "colab": {
          "base_uri": "https://localhost:8080/"
        },
        "id": "6micgTIZIWBw",
        "outputId": "a7bc4cd9-aeec-4402-a8e0-98c40f227acf"
      },
      "source": [
        "rf.fit(X_train, y_train)"
      ],
      "execution_count": 104,
      "outputs": [
        {
          "output_type": "execute_result",
          "data": {
            "text/plain": [
              "RandomForestClassifier(bootstrap=True, ccp_alpha=0.0, class_weight=None,\n",
              "                       criterion='gini', max_depth=None, max_features='auto',\n",
              "                       max_leaf_nodes=None, max_samples=None,\n",
              "                       min_impurity_decrease=0.0, min_impurity_split=None,\n",
              "                       min_samples_leaf=1, min_samples_split=2,\n",
              "                       min_weight_fraction_leaf=0.0, n_estimators=160,\n",
              "                       n_jobs=None, oob_score=False, random_state=300,\n",
              "                       verbose=0, warm_start=False)"
            ]
          },
          "metadata": {
            "tags": []
          },
          "execution_count": 104
        }
      ]
    },
    {
      "cell_type": "code",
      "metadata": {
        "id": "dSoDFbg2IV_H"
      },
      "source": [
        "predrf=rf.predict(X_test)"
      ],
      "execution_count": 105,
      "outputs": []
    },
    {
      "cell_type": "code",
      "metadata": {
        "colab": {
          "base_uri": "https://localhost:8080/"
        },
        "id": "PA8SBLAsIqvP",
        "outputId": "ff8441e8-fae7-4dff-9bcd-81f830a4f418"
      },
      "source": [
        "accuracy_score(y_test,predrf)"
      ],
      "execution_count": 106,
      "outputs": [
        {
          "output_type": "execute_result",
          "data": {
            "text/plain": [
              "0.9298"
            ]
          },
          "metadata": {
            "tags": []
          },
          "execution_count": 106
        }
      ]
    },
    {
      "cell_type": "markdown",
      "metadata": {
        "id": "wAEyrZQGX0sL"
      },
      "source": [
        "###Modeling Main Data"
      ]
    },
    {
      "cell_type": "markdown",
      "metadata": {
        "id": "r96z0DVEbYrP"
      },
      "source": [
        "####Baseline"
      ]
    },
    {
      "cell_type": "markdown",
      "metadata": {
        "id": "EKASlT7VbeLr"
      },
      "source": [
        "#####Creating the model"
      ]
    },
    {
      "cell_type": "code",
      "metadata": {
        "colab": {
          "base_uri": "https://localhost:8080/"
        },
        "id": "cOQK2Grkbcft",
        "outputId": "9160d8a6-f676-44b7-f35f-cf5a86287fd7"
      },
      "source": [
        "\r\n",
        "y_trainAll.value_counts(normalize=True)[0]\r\n"
      ],
      "execution_count": 107,
      "outputs": [
        {
          "output_type": "execute_result",
          "data": {
            "text/plain": [
              "0.905302480024904"
            ]
          },
          "metadata": {
            "tags": []
          },
          "execution_count": 107
        }
      ]
    },
    {
      "cell_type": "markdown",
      "metadata": {
        "id": "obByZarFX0sN"
      },
      "source": [
        "####Logistic Regression Model"
      ]
    },
    {
      "cell_type": "markdown",
      "metadata": {
        "id": "0mEqD1jvX0sN"
      },
      "source": [
        "#####Creating the model"
      ]
    },
    {
      "cell_type": "code",
      "metadata": {
        "id": "Ax6jZUt4X0sO"
      },
      "source": [
        "\r\n",
        "lrAll=LogisticRegression(fit_intercept=False,\r\n",
        "                      max_iter=10000,\r\n",
        "                      C=29.763514416313132,\r\n",
        "                      penalty= 'l2')\r\n"
      ],
      "execution_count": 108,
      "outputs": []
    },
    {
      "cell_type": "code",
      "metadata": {
        "colab": {
          "base_uri": "https://localhost:8080/"
        },
        "id": "GRyvnEW-X0sR",
        "outputId": "bb38f231-0062-461e-a0e9-d24a77a49bd2"
      },
      "source": [
        "lrAll.fit(X_trainAll, y_trainAll)\r\n"
      ],
      "execution_count": 109,
      "outputs": [
        {
          "output_type": "execute_result",
          "data": {
            "text/plain": [
              "LogisticRegression(C=29.763514416313132, class_weight=None, dual=False,\n",
              "                   fit_intercept=False, intercept_scaling=1, l1_ratio=None,\n",
              "                   max_iter=10000, multi_class='auto', n_jobs=None,\n",
              "                   penalty='l2', random_state=None, solver='lbfgs', tol=0.0001,\n",
              "                   verbose=0, warm_start=False)"
            ]
          },
          "metadata": {
            "tags": []
          },
          "execution_count": 109
        }
      ]
    },
    {
      "cell_type": "code",
      "metadata": {
        "id": "DSzs_PyZX0sU"
      },
      "source": [
        "predlrAll=lrAll.predict(X_testAll)"
      ],
      "execution_count": 110,
      "outputs": []
    },
    {
      "cell_type": "markdown",
      "metadata": {
        "id": "t4OJW_HbX0sV"
      },
      "source": [
        "#####Evaluating the model"
      ]
    },
    {
      "cell_type": "markdown",
      "metadata": {
        "id": "DylKnOkpe_UZ"
      },
      "source": [
        "Accuracy Score"
      ]
    },
    {
      "cell_type": "code",
      "metadata": {
        "colab": {
          "base_uri": "https://localhost:8080/"
        },
        "id": "Z6OEsFTDX0sW",
        "outputId": "27016493-7d82-4ae7-823d-ab92a74588c2"
      },
      "source": [
        "lrAll_acc=accuracy_score(y_testAll,predlrAll)\r\n",
        "print('Logistic Model Accurecy Score = ' , lrAll_acc)"
      ],
      "execution_count": 111,
      "outputs": [
        {
          "output_type": "stream",
          "text": [
            "Logistic Model Accurecy Score =  0.7638769053781996\n"
          ],
          "name": "stdout"
        }
      ]
    },
    {
      "cell_type": "markdown",
      "metadata": {
        "id": "D1C6qp2yfHL5"
      },
      "source": [
        "Confusion Matrix"
      ]
    },
    {
      "cell_type": "code",
      "metadata": {
        "colab": {
          "base_uri": "https://localhost:8080/",
          "height": 458
        },
        "id": "UWNYaPKnfGEt",
        "outputId": "b46127e1-22b1-44dd-cc3e-c3e77aeef4b4"
      },
      "source": [
        "cf = confusion_matrix(y_testAll, predlrAll)\r\n",
        "group_counts = ['{0:0.0f}'.format(value) for value in\r\n",
        "                cf.flatten()]\r\n",
        "group_percentages = ['{0:.2%}'.format(value) for value in cf.flatten()/np.sum(cf)]\r\n",
        "labels = [f'{v1}\\n{v2}' for v1, v2 in zip(group_counts,group_percentages)]\r\n",
        "labels = np.asarray(labels).reshape(3,3)\r\n",
        "ticks_labels = df.descriptive_loan_value.unique()\r\n",
        "\r\n",
        "plt.figure(figsize=(7,7))\r\n",
        "sns.heatmap(cf, annot=labels, fmt='', cmap=plt.cm.Blues, yticklabels=ticks_labels, xticklabels= ticks_labels);\r\n",
        "plt.title(\"Logistic Regression Model Confusion Matrix\")\r\n",
        "\r\n",
        "plt.xlabel('Predicted')\r\n",
        "plt.ylabel('Actual')\r\n",
        "sns.set(font_scale=1);"
      ],
      "execution_count": 112,
      "outputs": [
        {
          "output_type": "display_data",
          "data": {
            "image/png": "[encoded data removed]",
            "text/plain": [
              "<Figure size 504x504 with 2 Axes>"
            ]
          },
          "metadata": {
            "tags": [],
            "needs_background": "light"
          }
        }
      ]
    },
    {
      "cell_type": "markdown",
      "metadata": {
        "id": "WqqX0N1eX0sX"
      },
      "source": [
        "####Random Forest Model"
      ]
    },
    {
      "cell_type": "markdown",
      "metadata": {
        "id": "qy_pAgCKX0sa"
      },
      "source": [
        "#####Creating the model"
      ]
    },
    {
      "cell_type": "code",
      "metadata": {
        "id": "sDLW30A0X0sb"
      },
      "source": [
        "\r\n",
        "rfAll =RandomForestClassifier(n_estimators= 160, warm_start= False,random_state=300)"
      ],
      "execution_count": 113,
      "outputs": []
    },
    {
      "cell_type": "code",
      "metadata": {
        "colab": {
          "base_uri": "https://localhost:8080/"
        },
        "id": "rADTOa9yX0sb",
        "outputId": "06642df8-9ade-4b0e-bb2c-600a26fd5bf5"
      },
      "source": [
        "\r\n",
        "rfAll.fit(X_trainAll, y_trainAll)\r\n"
      ],
      "execution_count": 114,
      "outputs": [
        {
          "output_type": "execute_result",
          "data": {
            "text/plain": [
              "RandomForestClassifier(bootstrap=True, ccp_alpha=0.0, class_weight=None,\n",
              "                       criterion='gini', max_depth=None, max_features='auto',\n",
              "                       max_leaf_nodes=None, max_samples=None,\n",
              "                       min_impurity_decrease=0.0, min_impurity_split=None,\n",
              "                       min_samples_leaf=1, min_samples_split=2,\n",
              "                       min_weight_fraction_leaf=0.0, n_estimators=160,\n",
              "                       n_jobs=None, oob_score=False, random_state=300,\n",
              "                       verbose=0, warm_start=False)"
            ]
          },
          "metadata": {
            "tags": []
          },
          "execution_count": 114
        }
      ]
    },
    {
      "cell_type": "code",
      "metadata": {
        "id": "MrXfbPC1X0sc"
      },
      "source": [
        "predrfAll=rfAll.predict(X_testAll)"
      ],
      "execution_count": 115,
      "outputs": []
    },
    {
      "cell_type": "markdown",
      "metadata": {
        "id": "jHsnlZK_X0sd"
      },
      "source": [
        "#####Evaluating the model"
      ]
    },
    {
      "cell_type": "markdown",
      "metadata": {
        "id": "60cmhJosex6i"
      },
      "source": [
        "Accuracy Score"
      ]
    },
    {
      "cell_type": "code",
      "metadata": {
        "colab": {
          "base_uri": "https://localhost:8080/"
        },
        "id": "OONmBNpzX0sd",
        "outputId": "95e3e431-7cd2-4139-e898-ea41b568dc8a"
      },
      "source": [
        "rfAll_acc=accuracy_score(y_testAll,predrfAll)\r\n",
        "print('Random Forest Model Accurecy Score = ' , rfAll_acc)"
      ],
      "execution_count": 116,
      "outputs": [
        {
          "output_type": "stream",
          "text": [
            "Random Forest Model Accurecy Score =  0.7678314639056658\n"
          ],
          "name": "stdout"
        }
      ]
    },
    {
      "cell_type": "code",
      "metadata": {
        "colab": {
          "base_uri": "https://localhost:8080/",
          "height": 75
        },
        "id": "R2r0yeMhX0se",
        "outputId": "8544aeb1-d7b2-4616-ac23-c4b84111cc1c"
      },
      "source": [
        "classification_report(y_testAll,predrfAll)"
      ],
      "execution_count": 117,
      "outputs": [
        {
          "output_type": "execute_result",
          "data": {
            "application/vnd.google.colaboratory.intrinsic+json": {
              "type": "string"
            },
            "text/plain": [
              "'               precision    recall  f1-score   support\\n\\n      60K SAR       0.74      0.93      0.83      8273\\n Over 60K SAR       1.00      1.00      1.00      1255\\nUnder 60K SAR       0.76      0.39      0.51      4380\\n\\n     accuracy                           0.77     13908\\n    macro avg       0.83      0.77      0.78     13908\\n weighted avg       0.77      0.77      0.74     13908\\n'"
            ]
          },
          "metadata": {
            "tags": []
          },
          "execution_count": 117
        }
      ]
    },
    {
      "cell_type": "markdown",
      "metadata": {
        "id": "YF6tGL4Ze1mv"
      },
      "source": [
        "Confusion Matrix"
      ]
    },
    {
      "cell_type": "code",
      "metadata": {
        "colab": {
          "base_uri": "https://localhost:8080/",
          "height": 464
        },
        "id": "G71re-pdY7Sw",
        "outputId": "8039528e-2645-41d7-c1f5-6017be5321b6"
      },
      "source": [
        "cf = confusion_matrix(y_testAll, predrfAll)\r\n",
        "group_counts = ['{0:0.0f}'.format(value) for value in\r\n",
        "                cf.flatten()]\r\n",
        "group_percentages = ['{0:.2%}'.format(value) for value in cf.flatten()/np.sum(cf)]\r\n",
        "labels = [f'{v1}\\n{v2}' for v1, v2 in zip(group_counts,group_percentages)]\r\n",
        "labels = np.asarray(labels).reshape(3,3)\r\n",
        "ticks_labels = df.descriptive_loan_value.unique()\r\n",
        "\r\n",
        "plt.figure(figsize=(7,7))\r\n",
        "sns.heatmap(cf, annot=labels, fmt='', cmap=plt.cm.Blues, yticklabels=ticks_labels, xticklabels= ticks_labels);\r\n",
        "plt.title(\"Random Forest Classifier Confusion Matrix\")\r\n",
        "plt.ylabel('Actual')\r\n",
        "plt.xlabel('Predicted')\r\n",
        "sns.set(font_scale=1);"
      ],
      "execution_count": 118,
      "outputs": [
        {
          "output_type": "display_data",
          "data": {
            "image/png": "[encoded data removed]",
            "text/plain": [
              "<Figure size 504x504 with 2 Axes>"
            ]
          },
          "metadata": {
            "tags": []
          }
        }
      ]
    }
  ]
}